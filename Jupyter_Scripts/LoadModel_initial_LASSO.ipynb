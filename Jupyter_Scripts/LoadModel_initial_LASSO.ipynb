{
 "cells": [
  {
   "cell_type": "code",
   "execution_count": 1,
   "metadata": {},
   "outputs": [],
   "source": [
    "##### MODELING LIBRARIES #####\n",
    "from sklearn.linear_model import LassoCV\n",
    "\n",
    "from sklearn.preprocessing import StandardScaler\n",
    "from sklearn.model_selection import train_test_split\n",
    "from patsy import dmatrices, dmatrix\n",
    "\n",
    "from sklearn.metrics import mean_squared_error, r2_score\n",
    "\n",
    "##### FORMATTING AND GRAPHING LIBRARIES #####\n",
    "import pandas as pd\n",
    "import numpy as np\n",
    "import matplotlib.pyplot as plt\n",
    "\n",
    "##### TIMING AND UTILITY LIBRARIES #####\n",
    "import sqlalchemy as db\n",
    "from datetime import datetime\n",
    "import timeit\n",
    "from dateutil.relativedelta import relativedelta \n",
    "import random"
   ]
  },
  {
   "cell_type": "code",
   "execution_count": 2,
   "metadata": {},
   "outputs": [
    {
     "name": "stdout",
     "output_type": "stream",
     "text": [
      "Reading pre-built dataset...\n",
      "Backfilling 4 null values...\n"
     ]
    }
   ],
   "source": [
    "##### IMPORT PREPARED DATA #####\n",
    "print('Reading pre-built dataset...')\n",
    "df_load = pd.read_csv('../PJM_Weekly_Model/sample_base_data.csv', index_col = 0, parse_dates = [0])\n",
    "\n",
    "# Drop initial null rows from missing lagged values\n",
    "df_load = df_load.iloc[169:,:]\n",
    "\n",
    "# Infill remaining nulls (from missing daylight savings hour) with previous value\n",
    "backfilled = df_load.isna().sum().sum()\n",
    "print('Backfilling %s null values...'%(backfilled))\n",
    "df_load = df_load.fillna(method = 'backfill')\n",
    "\n",
    "# Limit dataset to 13 months of data (18240 hours)\n",
    "df_load = df_load.head(18240)\n",
    "\n",
    "# Convert date, time, holiday columns to categorical variables\n",
    "for col in ['Month','WeekDay','Day','Hour']:\n",
    "    df_load[col] = df_load[col].astype('category')"
   ]
  },
  {
   "cell_type": "code",
   "execution_count": 4,
   "metadata": {
    "scrolled": false
   },
   "outputs": [
    {
     "name": "stdout",
     "output_type": "stream",
     "text": [
      "\n",
      "Defining training set and creating regression model fit...\n",
      "Lasso regression fit created in 26.28 seconds\n"
     ]
    }
   ],
   "source": [
    "##### LASSO REGRESSION ON TRAINING DATA #####\n",
    "        \n",
    "tic = timeit.default_timer()\n",
    "print(\"\\nDefining training set and creating regression model fit...\") \n",
    "\n",
    "# Set random seed\n",
    "random.seed(238)\n",
    "\n",
    "# Use Patsy to create the one-hot encoded dummy variables with interactions \n",
    "y, X =  dmatrices('value~LoadLag+LoadLagSq+LoadLag3+Light+WWP+THI+WWPSq+THISq+WWPLag+THILag+WWPLagSq+THILagSq+Month+Day+WeekDay+Hour+Holiday+WWP*Hour+WWP*Day+WWP*Holiday+WWP*Month+WWP*WeekDay+WWPSq*Hour+WWPSq*Day+WWPSq*Holiday+WWPSq*Month+WWPSq*WeekDay+THI*Hour+THI*Day+THI*Holiday+THI*Month+THI*WeekDay+THISq*Hour+THISq*Day+THISq*Holiday+THISq*Month+THISq*WeekDay+Month:Day+Hour:Day+Month:Holiday+Month:WeekDay+Hour:WeekDay+WeekDay:Holiday+THI:WWP',df_load,return_type='dataframe')\n",
    "\n",
    "# Split data into training and testing data sets with two-year training sample (8760 h/yr * 2)\n",
    "X_train, X_test, y_train, y_test = train_test_split(X, y, train_size = 17520 / X.shape[0], shuffle = False)\n",
    "\n",
    "# Standardize both datasets\n",
    "ss = StandardScaler()\n",
    "\n",
    "X_train_ss = ss.fit_transform(X_train)\n",
    "X_test_ss = ss.transform(X_test)\n",
    "\n",
    "# Create the cross validation object with ten folds\n",
    "lasso_cv = LassoCV(cv=10, tol = 0.01, n_jobs = -1)\n",
    "# Cross validate to get appropriate lambdas\n",
    "cvFit = lasso_cv.fit(X_train_ss,y_train['value'])\n",
    "\n",
    "toc = timeit.default_timer()\n",
    "print('Lasso regression fit created in %0.2f seconds' % (toc-tic))"
   ]
  },
  {
   "cell_type": "code",
   "execution_count": 9,
   "metadata": {},
   "outputs": [
    {
     "data": {
      "text/plain": [
       "['LoadLagSq',\n",
       " 'WWPSq',\n",
       " 'WWPSq:Hour[T.1]',\n",
       " 'WWPSq:Hour[T.2]',\n",
       " 'WWPSq:Hour[T.3]',\n",
       " 'WWPSq:Hour[T.4]',\n",
       " 'WWPSq:Hour[T.5]',\n",
       " 'WWPSq:Hour[T.6]',\n",
       " 'WWPSq:Hour[T.7]',\n",
       " 'WWPSq:Hour[T.8]',\n",
       " 'WWPSq:Hour[T.9]',\n",
       " 'WWPSq:Hour[T.10]',\n",
       " 'WWPSq:Hour[T.11]',\n",
       " 'WWPSq:Hour[T.12]',\n",
       " 'WWPSq:Hour[T.13]',\n",
       " 'WWPSq:Hour[T.14]',\n",
       " 'WWPSq:Hour[T.15]',\n",
       " 'WWPSq:Hour[T.16]',\n",
       " 'WWPSq:Hour[T.17]',\n",
       " 'WWPSq:Hour[T.18]',\n",
       " 'WWPSq:Hour[T.19]',\n",
       " 'WWPSq:Hour[T.20]',\n",
       " 'WWPSq:Hour[T.21]',\n",
       " 'WWPSq:Hour[T.22]',\n",
       " 'WWPSq:Hour[T.23]',\n",
       " 'WWPSq:Day[T.2]',\n",
       " 'WWPSq:Day[T.3]',\n",
       " 'WWPSq:Day[T.4]',\n",
       " 'WWPSq:Day[T.5]',\n",
       " 'WWPSq:Day[T.6]',\n",
       " 'WWPSq:Day[T.7]',\n",
       " 'WWPSq:Day[T.8]',\n",
       " 'WWPSq:Day[T.9]',\n",
       " 'WWPSq:Day[T.10]',\n",
       " 'WWPSq:Day[T.11]',\n",
       " 'WWPSq:Day[T.12]',\n",
       " 'WWPSq:Day[T.13]',\n",
       " 'WWPSq:Day[T.14]',\n",
       " 'WWPSq:Day[T.15]',\n",
       " 'WWPSq:Day[T.16]',\n",
       " 'WWPSq:Day[T.17]',\n",
       " 'WWPSq:Day[T.18]',\n",
       " 'WWPSq:Day[T.19]',\n",
       " 'WWPSq:Day[T.20]',\n",
       " 'WWPSq:Day[T.21]',\n",
       " 'WWPSq:Day[T.22]',\n",
       " 'WWPSq:Day[T.23]',\n",
       " 'WWPSq:Day[T.24]',\n",
       " 'WWPSq:Day[T.25]',\n",
       " 'WWPSq:Day[T.26]',\n",
       " 'WWPSq:Day[T.27]',\n",
       " 'WWPSq:Day[T.28]',\n",
       " 'WWPSq:Day[T.29]',\n",
       " 'WWPSq:Day[T.30]',\n",
       " 'WWPSq:Day[T.31]',\n",
       " 'WWPSq:Month[T.2]',\n",
       " 'WWPSq:Month[T.3]',\n",
       " 'WWPSq:Month[T.4]',\n",
       " 'WWPSq:Month[T.5]',\n",
       " 'WWPSq:Month[T.6]',\n",
       " 'WWPSq:Month[T.7]',\n",
       " 'WWPSq:Month[T.8]',\n",
       " 'WWPSq:Month[T.9]',\n",
       " 'WWPSq:Month[T.10]',\n",
       " 'WWPSq:Month[T.11]',\n",
       " 'WWPSq:Month[T.12]',\n",
       " 'WWPSq:WeekDay[T.2]',\n",
       " 'WWPSq:WeekDay[T.3]',\n",
       " 'WWPSq:WeekDay[T.4]',\n",
       " 'WWPSq:WeekDay[T.5]',\n",
       " 'WWPSq:WeekDay[T.6]',\n",
       " 'WWPSq:WeekDay[T.7]',\n",
       " 'THISq',\n",
       " 'THISq:Hour[T.1]',\n",
       " 'THISq:Hour[T.2]',\n",
       " 'THISq:Hour[T.3]',\n",
       " 'THISq:Hour[T.4]',\n",
       " 'THISq:Hour[T.5]',\n",
       " 'THISq:Hour[T.6]',\n",
       " 'THISq:Hour[T.7]',\n",
       " 'THISq:Hour[T.8]',\n",
       " 'THISq:Hour[T.9]',\n",
       " 'THISq:Hour[T.10]',\n",
       " 'THISq:Hour[T.11]',\n",
       " 'THISq:Hour[T.12]',\n",
       " 'THISq:Hour[T.13]',\n",
       " 'THISq:Hour[T.14]',\n",
       " 'THISq:Hour[T.15]',\n",
       " 'THISq:Hour[T.16]',\n",
       " 'THISq:Hour[T.17]',\n",
       " 'THISq:Hour[T.18]',\n",
       " 'THISq:Hour[T.19]',\n",
       " 'THISq:Hour[T.20]',\n",
       " 'THISq:Hour[T.21]',\n",
       " 'THISq:Hour[T.22]',\n",
       " 'THISq:Hour[T.23]',\n",
       " 'THISq:Day[T.2]',\n",
       " 'THISq:Day[T.3]',\n",
       " 'THISq:Day[T.4]',\n",
       " 'THISq:Day[T.5]',\n",
       " 'THISq:Day[T.6]',\n",
       " 'THISq:Day[T.7]',\n",
       " 'THISq:Day[T.8]',\n",
       " 'THISq:Day[T.9]',\n",
       " 'THISq:Day[T.10]',\n",
       " 'THISq:Day[T.11]',\n",
       " 'THISq:Day[T.12]',\n",
       " 'THISq:Day[T.13]',\n",
       " 'THISq:Day[T.14]',\n",
       " 'THISq:Day[T.15]',\n",
       " 'THISq:Day[T.16]',\n",
       " 'THISq:Day[T.17]',\n",
       " 'THISq:Day[T.18]',\n",
       " 'THISq:Day[T.19]',\n",
       " 'THISq:Day[T.20]',\n",
       " 'THISq:Day[T.21]',\n",
       " 'THISq:Day[T.22]',\n",
       " 'THISq:Day[T.23]',\n",
       " 'THISq:Day[T.24]',\n",
       " 'THISq:Day[T.25]',\n",
       " 'THISq:Day[T.26]',\n",
       " 'THISq:Day[T.27]',\n",
       " 'THISq:Day[T.28]',\n",
       " 'THISq:Day[T.29]',\n",
       " 'THISq:Day[T.30]',\n",
       " 'THISq:Day[T.31]',\n",
       " 'THISq:Month[T.2]',\n",
       " 'THISq:Month[T.3]',\n",
       " 'THISq:Month[T.4]',\n",
       " 'THISq:Month[T.5]',\n",
       " 'THISq:Month[T.6]',\n",
       " 'THISq:Month[T.7]',\n",
       " 'THISq:Month[T.8]',\n",
       " 'THISq:Month[T.9]',\n",
       " 'THISq:Month[T.10]',\n",
       " 'THISq:Month[T.11]',\n",
       " 'THISq:Month[T.12]',\n",
       " 'THISq:WeekDay[T.2]',\n",
       " 'THISq:WeekDay[T.3]',\n",
       " 'THISq:WeekDay[T.4]',\n",
       " 'THISq:WeekDay[T.5]',\n",
       " 'THISq:WeekDay[T.6]',\n",
       " 'THISq:WeekDay[T.7]',\n",
       " 'WWPLagSq',\n",
       " 'THILagSq',\n",
       " 'WWPSq:Holiday',\n",
       " 'THISq:Holiday']"
      ]
     },
     "execution_count": 9,
     "metadata": {},
     "output_type": "execute_result"
    }
   ],
   "source": [
    "[col for col in X.columns if 'Sq' in col]"
   ]
  },
  {
   "cell_type": "code",
   "execution_count": 4,
   "metadata": {},
   "outputs": [],
   "source": [
    "# MAPE function taken from:\n",
    "# https://www.statology.org/mape-python/\n",
    "def mape(actual, pred): \n",
    "    actual, pred = np.array(actual), np.array(pred)\n",
    "    return np.mean(np.abs((actual - pred) / actual)) * 100"
   ]
  },
  {
   "cell_type": "code",
   "execution_count": 5,
   "metadata": {},
   "outputs": [
    {
     "name": "stderr",
     "output_type": "stream",
     "text": [
      "/opt/anaconda3/lib/python3.7/site-packages/ipykernel_launcher.py:2: SettingWithCopyWarning: \n",
      "A value is trying to be set on a copy of a slice from a DataFrame.\n",
      "Try using .loc[row_indexer,col_indexer] = value instead\n",
      "\n",
      "See the caveats in the documentation: https://pandas.pydata.org/pandas-docs/stable/user_guide/indexing.html#returning-a-view-versus-a-copy\n",
      "  \n",
      "/opt/anaconda3/lib/python3.7/site-packages/ipykernel_launcher.py:3: SettingWithCopyWarning: \n",
      "A value is trying to be set on a copy of a slice from a DataFrame.\n",
      "Try using .loc[row_indexer,col_indexer] = value instead\n",
      "\n",
      "See the caveats in the documentation: https://pandas.pydata.org/pandas-docs/stable/user_guide/indexing.html#returning-a-view-versus-a-copy\n",
      "  This is separate from the ipykernel package so we can avoid doing imports until\n"
     ]
    }
   ],
   "source": [
    "# Add predictions to target dataframes\n",
    "y_train['prediction'] = cvFit.predict(X_train_ss)\n",
    "y_test['prediction'] = cvFit.predict(X_test_ss)"
   ]
  },
  {
   "cell_type": "code",
   "execution_count": 6,
   "metadata": {
    "scrolled": true
   },
   "outputs": [
    {
     "name": "stdout",
     "output_type": "stream",
     "text": [
      "Training data r2: 0.968\n",
      "Testing data r2: 0.869\n",
      "Training data MAPE: 2.467\n",
      "Testing data MAPE: 3.146\n"
     ]
    }
   ],
   "source": [
    "# Calculate r2 scores for training and testing data\n",
    "train_r2 = round(cvFit.score(X_train_ss,y_train['value']),3)\n",
    "test_r2 = round(cvFit.score(X_test_ss,y_test['value']),3)\n",
    "print('Training data r2: %s' % (train_r2))\n",
    "print('Testing data r2: %s' % (test_r2))\n",
    "\n",
    "# Calculate MAPE scores for training and testing data\n",
    "train_mape = round(mape(y_train['value'], y_train['prediction']),3)\n",
    "test_mape = round(mape(y_test['value'], y_test['prediction']),3)\n",
    "print('Training data MAPE: %s' % (train_mape))\n",
    "print('Testing data MAPE: %s' % (test_mape))"
   ]
  },
  {
   "cell_type": "code",
   "execution_count": 7,
   "metadata": {},
   "outputs": [
    {
     "data": {
      "text/plain": [
       "[<matplotlib.lines.Line2D at 0x7fc72940b950>,\n",
       " <matplotlib.lines.Line2D at 0x7fc6d5ac3e10>]"
      ]
     },
     "execution_count": 7,
     "metadata": {},
     "output_type": "execute_result"
    },
    {
     "data": {
      "image/png": "[encoded data removed]",
      "text/plain": [
       "<Figure size 432x288 with 1 Axes>"
      ]
     },
     "metadata": {
      "needs_background": "light"
     },
     "output_type": "display_data"
    }
   ],
   "source": [
    "plt.plot(y_test)"
   ]
  },
  {
   "cell_type": "code",
   "execution_count": 11,
   "metadata": {},
   "outputs": [
    {
     "data": {
      "text/plain": [
       "[<matplotlib.lines.Line2D at 0x7fc6d5b0ecd0>,\n",
       " <matplotlib.lines.Line2D at 0x7fc6c982a290>]"
      ]
     },
     "execution_count": 11,
     "metadata": {},
     "output_type": "execute_result"
    },
    {
     "data": {
      "image/png": "[encoded data removed]",
      "text/plain": [
       "<Figure size 432x288 with 1 Axes>"
      ]
     },
     "metadata": {
      "needs_background": "light"
     },
     "output_type": "display_data"
    }
   ],
   "source": [
    "plt.plot(y_test['20190107'])"
   ]
  },
  {
   "cell_type": "code",
   "execution_count": null,
   "metadata": {},
   "outputs": [],
   "source": []
  }
 ],
 "metadata": {
  "kernelspec": {
   "display_name": "Python 3",
   "language": "python",
   "name": "python3"
  },
  "language_info": {
   "codemirror_mode": {
    "name": "ipython",
    "version": 3
   },
   "file_extension": ".py",
   "mimetype": "text/x-python",
   "name": "python",
   "nbconvert_exporter": "python",
   "pygments_lexer": "ipython3",
   "version": "3.7.6"
  }
 },
 "nbformat": 4,
 "nbformat_minor": 4
}
