{
 "cells": [
  {
   "cell_type": "code",
   "execution_count": 1,
   "metadata": {},
   "outputs": [],
   "source": [
    "##### MODELING LIBRARIES #####\n",
    "from tensorflow.keras.models import Sequential\n",
    "from tensorflow.keras.layers import Dense, Dropout, GRU\n",
    "from tensorflow.keras.optimizers import Adam\n",
    "from tensorflow.keras.preprocessing.sequence import TimeseriesGenerator\n",
    "from tensorflow.random import set_seed\n",
    "from keras.callbacks import EarlyStopping\n",
    "\n",
    "from sklearn.preprocessing import StandardScaler\n",
    "from sklearn.model_selection import train_test_split\n",
    "from sklearn.metrics import mean_squared_error, r2_score\n",
    "from patsy import dmatrices, dmatrix\n",
    "\n",
    "##### FORMATTING AND GRAPHING LIBRARIES #####\n",
    "import pandas as pd\n",
    "import numpy as np\n",
    "import matplotlib.pyplot as plt\n",
    "import seaborn as sns\n",
    "import itertools\n",
    "\n",
    "##### TIMING AND UTILITY LIBRARIES #####\n",
    "from datetime import datetime\n",
    "import timeit\n",
    "from dateutil.relativedelta import relativedelta \n",
    "import random"
   ]
  },
  {
   "cell_type": "code",
   "execution_count": 2,
   "metadata": {},
   "outputs": [],
   "source": [
    "# MAPE function taken from:\n",
    "# https://www.statology.org/mape-python/\n",
    "def mape(actual, pred): \n",
    "    actual, pred = np.array(actual), np.array(pred)\n",
    "    return np.mean(np.abs((actual - pred) / actual)) * 100"
   ]
  },
  {
   "cell_type": "code",
   "execution_count": 3,
   "metadata": {},
   "outputs": [
    {
     "name": "stdout",
     "output_type": "stream",
     "text": [
      "Reading pre-built dataset...\n",
      "Backfilling 1 null values...\n"
     ]
    }
   ],
   "source": [
    "##### IMPORT PREPARED DATA #####\n",
    "print('Reading pre-built dataset...')\n",
    "df_full = pd.read_csv('../PJM_Weekly_Model/sample_base_data.csv', index_col = 0, parse_dates = [0])\n",
    "\n",
    "# Drop all lag columns for use in RNN\n",
    "lag_sq_cols = [column for column in df_full.columns if 'Lag' in column or 'Sq' in column]\n",
    "df_full = df_full.drop(columns = lag_sq_cols)\n",
    "\n",
    "# Infill remaining nulls (from missing daylight savings hour) with previous value\n",
    "backfilled = df_full.isna().sum().sum()\n",
    "print('Backfilling %s null values...'%(backfilled))\n",
    "df_full = df_full.fillna(method = 'backfill')\n",
    "\n",
    "# Convert date, time, holiday columns to categorical variables\n",
    "for col in ['Month','WeekDay','Day','Hour']:\n",
    "    df_full[col] = df_full[col].astype('category')\n",
    "    \n",
    "# Create dataframe for actual loads and predicted train and test values\n",
    "df_train = pd.DataFrame(df_full['value'])\n",
    "df_test = pd.DataFrame(df_full['value'])"
   ]
  },
  {
   "cell_type": "code",
   "execution_count": 4,
   "metadata": {},
   "outputs": [],
   "source": [
    "# Define final parameters\n",
    "param_dict = {'seq_length':12,\n",
    "              'seq_batch_size':256,\n",
    "              'layer_one_neurons':128,\n",
    "              'layer_two_neurons':32,\n",
    "              'layer_three_neurons':16,\n",
    "              'layer_four_neurons':16,\n",
    "              'dropout_rate':0,\n",
    "              'stop_patience':4,\n",
    "              'learning_rate':0.01,\n",
    "              'epochs':40\n",
    "             }"
   ]
  },
  {
   "cell_type": "code",
   "execution_count": 5,
   "metadata": {
    "scrolled": true
   },
   "outputs": [
    {
     "name": "stdout",
     "output_type": "stream",
     "text": [
      "\n",
      "Defining training set, building and training models...\n",
      "Epoch 00015: early stopping\n",
      "Epoch 00014: early stopping\n",
      "Epoch 00008: early stopping\n",
      "Epoch 00015: early stopping\n",
      "Epoch 00019: early stopping\n"
     ]
    },
    {
     "name": "stderr",
     "output_type": "stream",
     "text": [
      "C:\\Users\\tawha\\anaconda3\\lib\\site-packages\\ipykernel_launcher.py:85: SettingWithCopyWarning: \n",
      "A value is trying to be set on a copy of a slice from a DataFrame.\n",
      "Try using .loc[row_indexer,col_indexer] = value instead\n",
      "\n",
      "See the caveats in the documentation: https://pandas.pydata.org/pandas-docs/stable/user_guide/indexing.html#returning-a-view-versus-a-copy\n",
      "C:\\Users\\tawha\\anaconda3\\lib\\site-packages\\ipykernel_launcher.py:86: SettingWithCopyWarning: \n",
      "A value is trying to be set on a copy of a slice from a DataFrame.\n",
      "Try using .loc[row_indexer,col_indexer] = value instead\n",
      "\n",
      "See the caveats in the documentation: https://pandas.pydata.org/pandas-docs/stable/user_guide/indexing.html#returning-a-view-versus-a-copy\n"
     ]
    },
    {
     "name": "stdout",
     "output_type": "stream",
     "text": [
      "\n",
      "2018-12-31 Model Results\n",
      "Training data r2: 0.773\n",
      "Testing data r2: 0.414\n",
      "Training data MAPE: 6.0\n",
      "Testing data MAPE: 5.175\n",
      "Epoch 00007: early stopping\n",
      "Epoch 00009: early stopping\n",
      "Epoch 00013: early stopping\n",
      "Epoch 00013: early stopping\n",
      "Epoch 00017: early stopping\n"
     ]
    },
    {
     "name": "stderr",
     "output_type": "stream",
     "text": [
      "C:\\Users\\tawha\\anaconda3\\lib\\site-packages\\ipykernel_launcher.py:85: SettingWithCopyWarning: \n",
      "A value is trying to be set on a copy of a slice from a DataFrame.\n",
      "Try using .loc[row_indexer,col_indexer] = value instead\n",
      "\n",
      "See the caveats in the documentation: https://pandas.pydata.org/pandas-docs/stable/user_guide/indexing.html#returning-a-view-versus-a-copy\n",
      "C:\\Users\\tawha\\anaconda3\\lib\\site-packages\\ipykernel_launcher.py:86: SettingWithCopyWarning: \n",
      "A value is trying to be set on a copy of a slice from a DataFrame.\n",
      "Try using .loc[row_indexer,col_indexer] = value instead\n",
      "\n",
      "See the caveats in the documentation: https://pandas.pydata.org/pandas-docs/stable/user_guide/indexing.html#returning-a-view-versus-a-copy\n"
     ]
    },
    {
     "name": "stdout",
     "output_type": "stream",
     "text": [
      "\n",
      "2019-01-07 Model Results\n",
      "Training data r2: 0.751\n",
      "Testing data r2: -0.693\n",
      "Training data MAPE: 6.068\n",
      "Testing data MAPE: 11.017\n",
      "Epoch 00017: early stopping\n",
      "Epoch 00010: early stopping\n",
      "Epoch 00012: early stopping\n",
      "Epoch 00014: early stopping\n",
      "Epoch 00017: early stopping\n"
     ]
    },
    {
     "name": "stderr",
     "output_type": "stream",
     "text": [
      "C:\\Users\\tawha\\anaconda3\\lib\\site-packages\\ipykernel_launcher.py:85: SettingWithCopyWarning: \n",
      "A value is trying to be set on a copy of a slice from a DataFrame.\n",
      "Try using .loc[row_indexer,col_indexer] = value instead\n",
      "\n",
      "See the caveats in the documentation: https://pandas.pydata.org/pandas-docs/stable/user_guide/indexing.html#returning-a-view-versus-a-copy\n",
      "C:\\Users\\tawha\\anaconda3\\lib\\site-packages\\ipykernel_launcher.py:86: SettingWithCopyWarning: \n",
      "A value is trying to be set on a copy of a slice from a DataFrame.\n",
      "Try using .loc[row_indexer,col_indexer] = value instead\n",
      "\n",
      "See the caveats in the documentation: https://pandas.pydata.org/pandas-docs/stable/user_guide/indexing.html#returning-a-view-versus-a-copy\n"
     ]
    },
    {
     "name": "stdout",
     "output_type": "stream",
     "text": [
      "\n",
      "2019-01-14 Model Results\n",
      "Training data r2: 0.437\n",
      "Testing data r2: -0.392\n",
      "Training data MAPE: 10.481\n",
      "Testing data MAPE: 13.288\n",
      "Epoch 00025: early stopping\n",
      "Epoch 00015: early stopping\n",
      "Epoch 00010: early stopping\n",
      "Epoch 00023: early stopping\n",
      "Epoch 00008: early stopping\n"
     ]
    },
    {
     "name": "stderr",
     "output_type": "stream",
     "text": [
      "C:\\Users\\tawha\\anaconda3\\lib\\site-packages\\ipykernel_launcher.py:85: SettingWithCopyWarning: \n",
      "A value is trying to be set on a copy of a slice from a DataFrame.\n",
      "Try using .loc[row_indexer,col_indexer] = value instead\n",
      "\n",
      "See the caveats in the documentation: https://pandas.pydata.org/pandas-docs/stable/user_guide/indexing.html#returning-a-view-versus-a-copy\n",
      "C:\\Users\\tawha\\anaconda3\\lib\\site-packages\\ipykernel_launcher.py:86: SettingWithCopyWarning: \n",
      "A value is trying to be set on a copy of a slice from a DataFrame.\n",
      "Try using .loc[row_indexer,col_indexer] = value instead\n",
      "\n",
      "See the caveats in the documentation: https://pandas.pydata.org/pandas-docs/stable/user_guide/indexing.html#returning-a-view-versus-a-copy\n"
     ]
    },
    {
     "name": "stdout",
     "output_type": "stream",
     "text": [
      "\n",
      "2019-01-21 Model Results\n",
      "Training data r2: -4.44\n",
      "Testing data r2: -11.857\n",
      "Training data MAPE: 33.207\n",
      "Testing data MAPE: 46.976\n",
      "Epoch 00008: early stopping\n",
      "Epoch 00009: early stopping\n",
      "Epoch 00011: early stopping\n",
      "Epoch 00008: early stopping\n",
      "Epoch 00012: early stopping\n"
     ]
    },
    {
     "name": "stderr",
     "output_type": "stream",
     "text": [
      "C:\\Users\\tawha\\anaconda3\\lib\\site-packages\\ipykernel_launcher.py:85: SettingWithCopyWarning: \n",
      "A value is trying to be set on a copy of a slice from a DataFrame.\n",
      "Try using .loc[row_indexer,col_indexer] = value instead\n",
      "\n",
      "See the caveats in the documentation: https://pandas.pydata.org/pandas-docs/stable/user_guide/indexing.html#returning-a-view-versus-a-copy\n",
      "C:\\Users\\tawha\\anaconda3\\lib\\site-packages\\ipykernel_launcher.py:86: SettingWithCopyWarning: \n",
      "A value is trying to be set on a copy of a slice from a DataFrame.\n",
      "Try using .loc[row_indexer,col_indexer] = value instead\n",
      "\n",
      "See the caveats in the documentation: https://pandas.pydata.org/pandas-docs/stable/user_guide/indexing.html#returning-a-view-versus-a-copy\n"
     ]
    },
    {
     "name": "stdout",
     "output_type": "stream",
     "text": [
      "\n",
      "2019-01-28 Model Results\n",
      "Training data r2: 0.796\n",
      "Testing data r2: 0.661\n",
      "Training data MAPE: 4.868\n",
      "Testing data MAPE: 5.148\n",
      "Epoch 00008: early stopping\n",
      "Epoch 00009: early stopping\n",
      "Epoch 00007: early stopping\n",
      "Epoch 00013: early stopping\n",
      "Epoch 00020: early stopping\n"
     ]
    },
    {
     "name": "stderr",
     "output_type": "stream",
     "text": [
      "C:\\Users\\tawha\\anaconda3\\lib\\site-packages\\ipykernel_launcher.py:85: SettingWithCopyWarning: \n",
      "A value is trying to be set on a copy of a slice from a DataFrame.\n",
      "Try using .loc[row_indexer,col_indexer] = value instead\n",
      "\n",
      "See the caveats in the documentation: https://pandas.pydata.org/pandas-docs/stable/user_guide/indexing.html#returning-a-view-versus-a-copy\n",
      "C:\\Users\\tawha\\anaconda3\\lib\\site-packages\\ipykernel_launcher.py:86: SettingWithCopyWarning: \n",
      "A value is trying to be set on a copy of a slice from a DataFrame.\n",
      "Try using .loc[row_indexer,col_indexer] = value instead\n",
      "\n",
      "See the caveats in the documentation: https://pandas.pydata.org/pandas-docs/stable/user_guide/indexing.html#returning-a-view-versus-a-copy\n"
     ]
    },
    {
     "name": "stdout",
     "output_type": "stream",
     "text": [
      "\n",
      "2019-02-04 Model Results\n",
      "Training data r2: 0.789\n",
      "Testing data r2: 0.601\n",
      "Training data MAPE: 5.941\n",
      "Testing data MAPE: 5.189\n",
      "Epoch 00010: early stopping\n",
      "Epoch 00008: early stopping\n",
      "Epoch 00007: early stopping\n",
      "Epoch 00009: early stopping\n",
      "Epoch 00012: early stopping\n"
     ]
    },
    {
     "name": "stderr",
     "output_type": "stream",
     "text": [
      "C:\\Users\\tawha\\anaconda3\\lib\\site-packages\\ipykernel_launcher.py:85: SettingWithCopyWarning: \n",
      "A value is trying to be set on a copy of a slice from a DataFrame.\n",
      "Try using .loc[row_indexer,col_indexer] = value instead\n",
      "\n",
      "See the caveats in the documentation: https://pandas.pydata.org/pandas-docs/stable/user_guide/indexing.html#returning-a-view-versus-a-copy\n",
      "C:\\Users\\tawha\\anaconda3\\lib\\site-packages\\ipykernel_launcher.py:86: SettingWithCopyWarning: \n",
      "A value is trying to be set on a copy of a slice from a DataFrame.\n",
      "Try using .loc[row_indexer,col_indexer] = value instead\n",
      "\n",
      "See the caveats in the documentation: https://pandas.pydata.org/pandas-docs/stable/user_guide/indexing.html#returning-a-view-versus-a-copy\n"
     ]
    },
    {
     "name": "stdout",
     "output_type": "stream",
     "text": [
      "\n",
      "2019-02-11 Model Results\n",
      "Training data r2: 0.566\n",
      "Testing data r2: 0.055\n",
      "Training data MAPE: 6.444\n",
      "Testing data MAPE: 6.876\n",
      "Epoch 00009: early stopping\n",
      "Epoch 00018: early stopping\n",
      "Epoch 00007: early stopping\n",
      "Epoch 00024: early stopping\n",
      "Epoch 00009: early stopping\n"
     ]
    },
    {
     "name": "stderr",
     "output_type": "stream",
     "text": [
      "C:\\Users\\tawha\\anaconda3\\lib\\site-packages\\ipykernel_launcher.py:85: SettingWithCopyWarning: \n",
      "A value is trying to be set on a copy of a slice from a DataFrame.\n",
      "Try using .loc[row_indexer,col_indexer] = value instead\n",
      "\n",
      "See the caveats in the documentation: https://pandas.pydata.org/pandas-docs/stable/user_guide/indexing.html#returning-a-view-versus-a-copy\n",
      "C:\\Users\\tawha\\anaconda3\\lib\\site-packages\\ipykernel_launcher.py:86: SettingWithCopyWarning: \n",
      "A value is trying to be set on a copy of a slice from a DataFrame.\n",
      "Try using .loc[row_indexer,col_indexer] = value instead\n",
      "\n",
      "See the caveats in the documentation: https://pandas.pydata.org/pandas-docs/stable/user_guide/indexing.html#returning-a-view-versus-a-copy\n"
     ]
    },
    {
     "name": "stdout",
     "output_type": "stream",
     "text": [
      "\n",
      "2019-02-18 Model Results\n",
      "Training data r2: -1.926\n",
      "Testing data r2: -11.86\n",
      "Training data MAPE: 29.503\n",
      "Testing data MAPE: 37.354\n",
      "Epoch 00021: early stopping\n",
      "Epoch 00011: early stopping\n",
      "Epoch 00024: early stopping\n",
      "Epoch 00010: early stopping\n",
      "Epoch 00016: early stopping\n"
     ]
    },
    {
     "name": "stderr",
     "output_type": "stream",
     "text": [
      "C:\\Users\\tawha\\anaconda3\\lib\\site-packages\\ipykernel_launcher.py:85: SettingWithCopyWarning: \n",
      "A value is trying to be set on a copy of a slice from a DataFrame.\n",
      "Try using .loc[row_indexer,col_indexer] = value instead\n",
      "\n",
      "See the caveats in the documentation: https://pandas.pydata.org/pandas-docs/stable/user_guide/indexing.html#returning-a-view-versus-a-copy\n",
      "C:\\Users\\tawha\\anaconda3\\lib\\site-packages\\ipykernel_launcher.py:86: SettingWithCopyWarning: \n",
      "A value is trying to be set on a copy of a slice from a DataFrame.\n",
      "Try using .loc[row_indexer,col_indexer] = value instead\n",
      "\n",
      "See the caveats in the documentation: https://pandas.pydata.org/pandas-docs/stable/user_guide/indexing.html#returning-a-view-versus-a-copy\n"
     ]
    },
    {
     "name": "stdout",
     "output_type": "stream",
     "text": [
      "\n",
      "2019-02-25 Model Results\n",
      "Training data r2: 0.865\n",
      "Testing data r2: 0.723\n",
      "Training data MAPE: 4.37\n",
      "Testing data MAPE: 4.129\n",
      "Epoch 00016: early stopping\n",
      "Epoch 00014: early stopping\n",
      "Epoch 00007: early stopping\n",
      "Epoch 00014: early stopping\n",
      "Epoch 00009: early stopping\n"
     ]
    },
    {
     "name": "stderr",
     "output_type": "stream",
     "text": [
      "C:\\Users\\tawha\\anaconda3\\lib\\site-packages\\ipykernel_launcher.py:85: SettingWithCopyWarning: \n",
      "A value is trying to be set on a copy of a slice from a DataFrame.\n",
      "Try using .loc[row_indexer,col_indexer] = value instead\n",
      "\n",
      "See the caveats in the documentation: https://pandas.pydata.org/pandas-docs/stable/user_guide/indexing.html#returning-a-view-versus-a-copy\n",
      "C:\\Users\\tawha\\anaconda3\\lib\\site-packages\\ipykernel_launcher.py:86: SettingWithCopyWarning: \n",
      "A value is trying to be set on a copy of a slice from a DataFrame.\n",
      "Try using .loc[row_indexer,col_indexer] = value instead\n",
      "\n",
      "See the caveats in the documentation: https://pandas.pydata.org/pandas-docs/stable/user_guide/indexing.html#returning-a-view-versus-a-copy\n"
     ]
    },
    {
     "name": "stdout",
     "output_type": "stream",
     "text": [
      "\n",
      "2019-03-04 Model Results\n",
      "Training data r2: 0.828\n",
      "Testing data r2: 0.344\n",
      "Training data MAPE: 4.847\n",
      "Testing data MAPE: 6.008\n",
      "Epoch 00008: early stopping\n",
      "Epoch 00006: early stopping\n",
      "Epoch 00016: early stopping\n",
      "Epoch 00020: early stopping\n",
      "Epoch 00013: early stopping\n"
     ]
    },
    {
     "name": "stderr",
     "output_type": "stream",
     "text": [
      "C:\\Users\\tawha\\anaconda3\\lib\\site-packages\\ipykernel_launcher.py:85: SettingWithCopyWarning: \n",
      "A value is trying to be set on a copy of a slice from a DataFrame.\n",
      "Try using .loc[row_indexer,col_indexer] = value instead\n",
      "\n",
      "See the caveats in the documentation: https://pandas.pydata.org/pandas-docs/stable/user_guide/indexing.html#returning-a-view-versus-a-copy\n",
      "C:\\Users\\tawha\\anaconda3\\lib\\site-packages\\ipykernel_launcher.py:86: SettingWithCopyWarning: \n",
      "A value is trying to be set on a copy of a slice from a DataFrame.\n",
      "Try using .loc[row_indexer,col_indexer] = value instead\n",
      "\n",
      "See the caveats in the documentation: https://pandas.pydata.org/pandas-docs/stable/user_guide/indexing.html#returning-a-view-versus-a-copy\n"
     ]
    },
    {
     "name": "stdout",
     "output_type": "stream",
     "text": [
      "\n",
      "2019-03-11 Model Results\n",
      "Training data r2: 0.689\n",
      "Testing data r2: -0.076\n",
      "Training data MAPE: 7.003\n",
      "Testing data MAPE: 8.823\n",
      "Epoch 00015: early stopping\n",
      "Epoch 00015: early stopping\n",
      "Epoch 00014: early stopping\n",
      "Epoch 00010: early stopping\n",
      "Epoch 00009: early stopping\n"
     ]
    },
    {
     "name": "stderr",
     "output_type": "stream",
     "text": [
      "C:\\Users\\tawha\\anaconda3\\lib\\site-packages\\ipykernel_launcher.py:85: SettingWithCopyWarning: \n",
      "A value is trying to be set on a copy of a slice from a DataFrame.\n",
      "Try using .loc[row_indexer,col_indexer] = value instead\n",
      "\n",
      "See the caveats in the documentation: https://pandas.pydata.org/pandas-docs/stable/user_guide/indexing.html#returning-a-view-versus-a-copy\n",
      "C:\\Users\\tawha\\anaconda3\\lib\\site-packages\\ipykernel_launcher.py:86: SettingWithCopyWarning: \n",
      "A value is trying to be set on a copy of a slice from a DataFrame.\n",
      "Try using .loc[row_indexer,col_indexer] = value instead\n",
      "\n",
      "See the caveats in the documentation: https://pandas.pydata.org/pandas-docs/stable/user_guide/indexing.html#returning-a-view-versus-a-copy\n"
     ]
    },
    {
     "name": "stdout",
     "output_type": "stream",
     "text": [
      "\n",
      "2019-03-18 Model Results\n",
      "Training data r2: 0.512\n",
      "Testing data r2: 0.649\n",
      "Training data MAPE: 7.5\n",
      "Testing data MAPE: 5.412\n",
      "Epoch 00008: early stopping\n",
      "Epoch 00009: early stopping\n",
      "Epoch 00013: early stopping\n",
      "Epoch 00015: early stopping\n",
      "Epoch 00021: early stopping\n"
     ]
    },
    {
     "name": "stderr",
     "output_type": "stream",
     "text": [
      "C:\\Users\\tawha\\anaconda3\\lib\\site-packages\\ipykernel_launcher.py:85: SettingWithCopyWarning: \n",
      "A value is trying to be set on a copy of a slice from a DataFrame.\n",
      "Try using .loc[row_indexer,col_indexer] = value instead\n",
      "\n",
      "See the caveats in the documentation: https://pandas.pydata.org/pandas-docs/stable/user_guide/indexing.html#returning-a-view-versus-a-copy\n",
      "C:\\Users\\tawha\\anaconda3\\lib\\site-packages\\ipykernel_launcher.py:86: SettingWithCopyWarning: \n",
      "A value is trying to be set on a copy of a slice from a DataFrame.\n",
      "Try using .loc[row_indexer,col_indexer] = value instead\n",
      "\n",
      "See the caveats in the documentation: https://pandas.pydata.org/pandas-docs/stable/user_guide/indexing.html#returning-a-view-versus-a-copy\n"
     ]
    },
    {
     "name": "stdout",
     "output_type": "stream",
     "text": [
      "\n",
      "2019-03-25 Model Results\n",
      "Training data r2: 0.788\n",
      "Testing data r2: 0.394\n",
      "Training data MAPE: 5.95\n",
      "Testing data MAPE: 6.757\n",
      "Epoch 00017: early stopping\n",
      "Epoch 00010: early stopping\n",
      "Epoch 00015: early stopping\n",
      "Epoch 00019: early stopping\n",
      "Epoch 00012: early stopping\n"
     ]
    },
    {
     "name": "stderr",
     "output_type": "stream",
     "text": [
      "C:\\Users\\tawha\\anaconda3\\lib\\site-packages\\ipykernel_launcher.py:85: SettingWithCopyWarning: \n",
      "A value is trying to be set on a copy of a slice from a DataFrame.\n",
      "Try using .loc[row_indexer,col_indexer] = value instead\n",
      "\n",
      "See the caveats in the documentation: https://pandas.pydata.org/pandas-docs/stable/user_guide/indexing.html#returning-a-view-versus-a-copy\n",
      "C:\\Users\\tawha\\anaconda3\\lib\\site-packages\\ipykernel_launcher.py:86: SettingWithCopyWarning: \n",
      "A value is trying to be set on a copy of a slice from a DataFrame.\n",
      "Try using .loc[row_indexer,col_indexer] = value instead\n",
      "\n",
      "See the caveats in the documentation: https://pandas.pydata.org/pandas-docs/stable/user_guide/indexing.html#returning-a-view-versus-a-copy\n"
     ]
    },
    {
     "name": "stdout",
     "output_type": "stream",
     "text": [
      "\n",
      "2019-04-01 Model Results\n",
      "Training data r2: 0.849\n",
      "Testing data r2: 0.854\n",
      "Training data MAPE: 4.469\n",
      "Testing data MAPE: 3.197\n",
      "Epoch 00006: early stopping\n",
      "Epoch 00015: early stopping\n",
      "Epoch 00011: early stopping\n",
      "Epoch 00018: early stopping\n",
      "Epoch 00010: early stopping\n"
     ]
    },
    {
     "name": "stderr",
     "output_type": "stream",
     "text": [
      "C:\\Users\\tawha\\anaconda3\\lib\\site-packages\\ipykernel_launcher.py:85: SettingWithCopyWarning: \n",
      "A value is trying to be set on a copy of a slice from a DataFrame.\n",
      "Try using .loc[row_indexer,col_indexer] = value instead\n",
      "\n",
      "See the caveats in the documentation: https://pandas.pydata.org/pandas-docs/stable/user_guide/indexing.html#returning-a-view-versus-a-copy\n",
      "C:\\Users\\tawha\\anaconda3\\lib\\site-packages\\ipykernel_launcher.py:86: SettingWithCopyWarning: \n",
      "A value is trying to be set on a copy of a slice from a DataFrame.\n",
      "Try using .loc[row_indexer,col_indexer] = value instead\n",
      "\n",
      "See the caveats in the documentation: https://pandas.pydata.org/pandas-docs/stable/user_guide/indexing.html#returning-a-view-versus-a-copy\n"
     ]
    },
    {
     "name": "stdout",
     "output_type": "stream",
     "text": [
      "\n",
      "2019-04-08 Model Results\n",
      "Training data r2: -2.363\n",
      "Testing data r2: -2.919\n",
      "Training data MAPE: 27.378\n",
      "Testing data MAPE: 23.096\n",
      "Epoch 00017: early stopping\n",
      "Epoch 00010: early stopping\n",
      "Epoch 00013: early stopping\n",
      "Epoch 00007: early stopping\n",
      "Epoch 00017: early stopping\n"
     ]
    },
    {
     "name": "stderr",
     "output_type": "stream",
     "text": [
      "C:\\Users\\tawha\\anaconda3\\lib\\site-packages\\ipykernel_launcher.py:85: SettingWithCopyWarning: \n",
      "A value is trying to be set on a copy of a slice from a DataFrame.\n",
      "Try using .loc[row_indexer,col_indexer] = value instead\n",
      "\n",
      "See the caveats in the documentation: https://pandas.pydata.org/pandas-docs/stable/user_guide/indexing.html#returning-a-view-versus-a-copy\n",
      "C:\\Users\\tawha\\anaconda3\\lib\\site-packages\\ipykernel_launcher.py:86: SettingWithCopyWarning: \n",
      "A value is trying to be set on a copy of a slice from a DataFrame.\n",
      "Try using .loc[row_indexer,col_indexer] = value instead\n",
      "\n",
      "See the caveats in the documentation: https://pandas.pydata.org/pandas-docs/stable/user_guide/indexing.html#returning-a-view-versus-a-copy\n"
     ]
    },
    {
     "name": "stdout",
     "output_type": "stream",
     "text": [
      "\n",
      "2019-04-15 Model Results\n",
      "Training data r2: 0.834\n",
      "Testing data r2: 0.757\n",
      "Training data MAPE: 4.415\n",
      "Testing data MAPE: 4.227\n",
      "Epoch 00008: early stopping\n",
      "Epoch 00010: early stopping\n",
      "Epoch 00011: early stopping\n",
      "Epoch 00014: early stopping\n",
      "Epoch 00007: early stopping\n"
     ]
    },
    {
     "name": "stderr",
     "output_type": "stream",
     "text": [
      "C:\\Users\\tawha\\anaconda3\\lib\\site-packages\\ipykernel_launcher.py:85: SettingWithCopyWarning: \n",
      "A value is trying to be set on a copy of a slice from a DataFrame.\n",
      "Try using .loc[row_indexer,col_indexer] = value instead\n",
      "\n",
      "See the caveats in the documentation: https://pandas.pydata.org/pandas-docs/stable/user_guide/indexing.html#returning-a-view-versus-a-copy\n",
      "C:\\Users\\tawha\\anaconda3\\lib\\site-packages\\ipykernel_launcher.py:86: SettingWithCopyWarning: \n",
      "A value is trying to be set on a copy of a slice from a DataFrame.\n",
      "Try using .loc[row_indexer,col_indexer] = value instead\n",
      "\n",
      "See the caveats in the documentation: https://pandas.pydata.org/pandas-docs/stable/user_guide/indexing.html#returning-a-view-versus-a-copy\n"
     ]
    },
    {
     "name": "stdout",
     "output_type": "stream",
     "text": [
      "\n",
      "2019-04-22 Model Results\n",
      "Training data r2: 0.614\n",
      "Testing data r2: 0.811\n",
      "Training data MAPE: 7.436\n",
      "Testing data MAPE: 4.175\n",
      "Epoch 00013: early stopping\n",
      "Epoch 00006: early stopping\n",
      "Epoch 00023: early stopping\n",
      "Epoch 00015: early stopping\n",
      "Epoch 00011: early stopping\n"
     ]
    },
    {
     "name": "stderr",
     "output_type": "stream",
     "text": [
      "C:\\Users\\tawha\\anaconda3\\lib\\site-packages\\ipykernel_launcher.py:85: SettingWithCopyWarning: \n",
      "A value is trying to be set on a copy of a slice from a DataFrame.\n",
      "Try using .loc[row_indexer,col_indexer] = value instead\n",
      "\n",
      "See the caveats in the documentation: https://pandas.pydata.org/pandas-docs/stable/user_guide/indexing.html#returning-a-view-versus-a-copy\n",
      "C:\\Users\\tawha\\anaconda3\\lib\\site-packages\\ipykernel_launcher.py:86: SettingWithCopyWarning: \n",
      "A value is trying to be set on a copy of a slice from a DataFrame.\n",
      "Try using .loc[row_indexer,col_indexer] = value instead\n",
      "\n",
      "See the caveats in the documentation: https://pandas.pydata.org/pandas-docs/stable/user_guide/indexing.html#returning-a-view-versus-a-copy\n"
     ]
    },
    {
     "name": "stdout",
     "output_type": "stream",
     "text": [
      "\n",
      "2019-04-29 Model Results\n",
      "Training data r2: 0.8\n",
      "Testing data r2: 0.641\n",
      "Training data MAPE: 5.392\n",
      "Testing data MAPE: 6.393\n",
      "Epoch 00016: early stopping\n",
      "Epoch 00016: early stopping\n",
      "Epoch 00015: early stopping\n",
      "Epoch 00016: early stopping\n",
      "Epoch 00009: early stopping\n"
     ]
    },
    {
     "name": "stderr",
     "output_type": "stream",
     "text": [
      "C:\\Users\\tawha\\anaconda3\\lib\\site-packages\\ipykernel_launcher.py:85: SettingWithCopyWarning: \n",
      "A value is trying to be set on a copy of a slice from a DataFrame.\n",
      "Try using .loc[row_indexer,col_indexer] = value instead\n",
      "\n",
      "See the caveats in the documentation: https://pandas.pydata.org/pandas-docs/stable/user_guide/indexing.html#returning-a-view-versus-a-copy\n",
      "C:\\Users\\tawha\\anaconda3\\lib\\site-packages\\ipykernel_launcher.py:86: SettingWithCopyWarning: \n",
      "A value is trying to be set on a copy of a slice from a DataFrame.\n",
      "Try using .loc[row_indexer,col_indexer] = value instead\n",
      "\n",
      "See the caveats in the documentation: https://pandas.pydata.org/pandas-docs/stable/user_guide/indexing.html#returning-a-view-versus-a-copy\n"
     ]
    },
    {
     "name": "stdout",
     "output_type": "stream",
     "text": [
      "\n",
      "2019-05-06 Model Results\n",
      "Training data r2: 0.855\n",
      "Testing data r2: 0.697\n",
      "Training data MAPE: 4.326\n",
      "Testing data MAPE: 5.707\n",
      "Epoch 00013: early stopping\n",
      "Epoch 00014: early stopping\n",
      "Epoch 00024: early stopping\n",
      "Epoch 00009: early stopping\n",
      "Epoch 00014: early stopping\n"
     ]
    },
    {
     "name": "stderr",
     "output_type": "stream",
     "text": [
      "C:\\Users\\tawha\\anaconda3\\lib\\site-packages\\ipykernel_launcher.py:85: SettingWithCopyWarning: \n",
      "A value is trying to be set on a copy of a slice from a DataFrame.\n",
      "Try using .loc[row_indexer,col_indexer] = value instead\n",
      "\n",
      "See the caveats in the documentation: https://pandas.pydata.org/pandas-docs/stable/user_guide/indexing.html#returning-a-view-versus-a-copy\n",
      "C:\\Users\\tawha\\anaconda3\\lib\\site-packages\\ipykernel_launcher.py:86: SettingWithCopyWarning: \n",
      "A value is trying to be set on a copy of a slice from a DataFrame.\n",
      "Try using .loc[row_indexer,col_indexer] = value instead\n",
      "\n",
      "See the caveats in the documentation: https://pandas.pydata.org/pandas-docs/stable/user_guide/indexing.html#returning-a-view-versus-a-copy\n"
     ]
    },
    {
     "name": "stdout",
     "output_type": "stream",
     "text": [
      "\n",
      "2019-05-13 Model Results\n",
      "Training data r2: 0.735\n",
      "Testing data r2: 0.697\n",
      "Training data MAPE: 5.78\n",
      "Testing data MAPE: 6.368\n",
      "Epoch 00016: early stopping\n",
      "Epoch 00011: early stopping\n",
      "Epoch 00008: early stopping\n",
      "Epoch 00011: early stopping\n",
      "Epoch 00013: early stopping\n"
     ]
    },
    {
     "name": "stderr",
     "output_type": "stream",
     "text": [
      "C:\\Users\\tawha\\anaconda3\\lib\\site-packages\\ipykernel_launcher.py:85: SettingWithCopyWarning: \n",
      "A value is trying to be set on a copy of a slice from a DataFrame.\n",
      "Try using .loc[row_indexer,col_indexer] = value instead\n",
      "\n",
      "See the caveats in the documentation: https://pandas.pydata.org/pandas-docs/stable/user_guide/indexing.html#returning-a-view-versus-a-copy\n",
      "C:\\Users\\tawha\\anaconda3\\lib\\site-packages\\ipykernel_launcher.py:86: SettingWithCopyWarning: \n",
      "A value is trying to be set on a copy of a slice from a DataFrame.\n",
      "Try using .loc[row_indexer,col_indexer] = value instead\n",
      "\n",
      "See the caveats in the documentation: https://pandas.pydata.org/pandas-docs/stable/user_guide/indexing.html#returning-a-view-versus-a-copy\n"
     ]
    },
    {
     "name": "stdout",
     "output_type": "stream",
     "text": [
      "\n",
      "2019-05-20 Model Results\n",
      "Training data r2: 0.753\n",
      "Testing data r2: 0.569\n",
      "Training data MAPE: 5.426\n",
      "Testing data MAPE: 8.079\n",
      "Epoch 00009: early stopping\n",
      "Epoch 00010: early stopping\n",
      "Epoch 00011: early stopping\n",
      "Epoch 00011: early stopping\n",
      "Epoch 00014: early stopping\n"
     ]
    },
    {
     "name": "stderr",
     "output_type": "stream",
     "text": [
      "C:\\Users\\tawha\\anaconda3\\lib\\site-packages\\ipykernel_launcher.py:85: SettingWithCopyWarning: \n",
      "A value is trying to be set on a copy of a slice from a DataFrame.\n",
      "Try using .loc[row_indexer,col_indexer] = value instead\n",
      "\n",
      "See the caveats in the documentation: https://pandas.pydata.org/pandas-docs/stable/user_guide/indexing.html#returning-a-view-versus-a-copy\n",
      "C:\\Users\\tawha\\anaconda3\\lib\\site-packages\\ipykernel_launcher.py:86: SettingWithCopyWarning: \n",
      "A value is trying to be set on a copy of a slice from a DataFrame.\n",
      "Try using .loc[row_indexer,col_indexer] = value instead\n",
      "\n",
      "See the caveats in the documentation: https://pandas.pydata.org/pandas-docs/stable/user_guide/indexing.html#returning-a-view-versus-a-copy\n"
     ]
    },
    {
     "name": "stdout",
     "output_type": "stream",
     "text": [
      "\n",
      "2019-05-27 Model Results\n",
      "Training data r2: 0.283\n",
      "Testing data r2: 0.462\n",
      "Training data MAPE: 10.136\n",
      "Testing data MAPE: 8.649\n",
      "Epoch 00006: early stopping\n",
      "Epoch 00017: early stopping\n",
      "Epoch 00016: early stopping\n",
      "Epoch 00008: early stopping\n",
      "Epoch 00014: early stopping\n"
     ]
    },
    {
     "name": "stderr",
     "output_type": "stream",
     "text": [
      "C:\\Users\\tawha\\anaconda3\\lib\\site-packages\\ipykernel_launcher.py:85: SettingWithCopyWarning: \n",
      "A value is trying to be set on a copy of a slice from a DataFrame.\n",
      "Try using .loc[row_indexer,col_indexer] = value instead\n",
      "\n",
      "See the caveats in the documentation: https://pandas.pydata.org/pandas-docs/stable/user_guide/indexing.html#returning-a-view-versus-a-copy\n",
      "C:\\Users\\tawha\\anaconda3\\lib\\site-packages\\ipykernel_launcher.py:86: SettingWithCopyWarning: \n",
      "A value is trying to be set on a copy of a slice from a DataFrame.\n",
      "Try using .loc[row_indexer,col_indexer] = value instead\n",
      "\n",
      "See the caveats in the documentation: https://pandas.pydata.org/pandas-docs/stable/user_guide/indexing.html#returning-a-view-versus-a-copy\n"
     ]
    },
    {
     "name": "stdout",
     "output_type": "stream",
     "text": [
      "\n",
      "2019-06-03 Model Results\n",
      "Training data r2: 0.07\n",
      "Testing data r2: 0.077\n",
      "Training data MAPE: 12.558\n",
      "Testing data MAPE: 11.136\n",
      "Epoch 00007: early stopping\n",
      "Epoch 00008: early stopping\n",
      "Epoch 00011: early stopping\n",
      "Epoch 00010: early stopping\n",
      "Epoch 00008: early stopping\n"
     ]
    },
    {
     "name": "stderr",
     "output_type": "stream",
     "text": [
      "C:\\Users\\tawha\\anaconda3\\lib\\site-packages\\ipykernel_launcher.py:85: SettingWithCopyWarning: \n",
      "A value is trying to be set on a copy of a slice from a DataFrame.\n",
      "Try using .loc[row_indexer,col_indexer] = value instead\n",
      "\n",
      "See the caveats in the documentation: https://pandas.pydata.org/pandas-docs/stable/user_guide/indexing.html#returning-a-view-versus-a-copy\n",
      "C:\\Users\\tawha\\anaconda3\\lib\\site-packages\\ipykernel_launcher.py:86: SettingWithCopyWarning: \n",
      "A value is trying to be set on a copy of a slice from a DataFrame.\n",
      "Try using .loc[row_indexer,col_indexer] = value instead\n",
      "\n",
      "See the caveats in the documentation: https://pandas.pydata.org/pandas-docs/stable/user_guide/indexing.html#returning-a-view-versus-a-copy\n"
     ]
    },
    {
     "name": "stdout",
     "output_type": "stream",
     "text": [
      "\n",
      "2019-06-10 Model Results\n",
      "Training data r2: 0.381\n",
      "Testing data r2: 0.481\n",
      "Training data MAPE: 9.844\n",
      "Testing data MAPE: 9.169\n",
      "Epoch 00026: early stopping\n",
      "Epoch 00008: early stopping\n",
      "Epoch 00016: early stopping\n",
      "Epoch 00016: early stopping\n",
      "Epoch 00013: early stopping\n"
     ]
    },
    {
     "name": "stderr",
     "output_type": "stream",
     "text": [
      "C:\\Users\\tawha\\anaconda3\\lib\\site-packages\\ipykernel_launcher.py:85: SettingWithCopyWarning: \n",
      "A value is trying to be set on a copy of a slice from a DataFrame.\n",
      "Try using .loc[row_indexer,col_indexer] = value instead\n",
      "\n",
      "See the caveats in the documentation: https://pandas.pydata.org/pandas-docs/stable/user_guide/indexing.html#returning-a-view-versus-a-copy\n",
      "C:\\Users\\tawha\\anaconda3\\lib\\site-packages\\ipykernel_launcher.py:86: SettingWithCopyWarning: \n",
      "A value is trying to be set on a copy of a slice from a DataFrame.\n",
      "Try using .loc[row_indexer,col_indexer] = value instead\n",
      "\n",
      "See the caveats in the documentation: https://pandas.pydata.org/pandas-docs/stable/user_guide/indexing.html#returning-a-view-versus-a-copy\n"
     ]
    },
    {
     "name": "stdout",
     "output_type": "stream",
     "text": [
      "\n",
      "2019-06-17 Model Results\n",
      "Training data r2: 0.852\n",
      "Testing data r2: 0.706\n",
      "Training data MAPE: 4.594\n",
      "Testing data MAPE: 6.932\n",
      "Epoch 00011: early stopping\n",
      "Epoch 00012: early stopping\n",
      "Epoch 00006: early stopping\n",
      "Epoch 00008: early stopping\n",
      "Epoch 00009: early stopping\n"
     ]
    },
    {
     "name": "stderr",
     "output_type": "stream",
     "text": [
      "C:\\Users\\tawha\\anaconda3\\lib\\site-packages\\ipykernel_launcher.py:85: SettingWithCopyWarning: \n",
      "A value is trying to be set on a copy of a slice from a DataFrame.\n",
      "Try using .loc[row_indexer,col_indexer] = value instead\n",
      "\n",
      "See the caveats in the documentation: https://pandas.pydata.org/pandas-docs/stable/user_guide/indexing.html#returning-a-view-versus-a-copy\n",
      "C:\\Users\\tawha\\anaconda3\\lib\\site-packages\\ipykernel_launcher.py:86: SettingWithCopyWarning: \n",
      "A value is trying to be set on a copy of a slice from a DataFrame.\n",
      "Try using .loc[row_indexer,col_indexer] = value instead\n",
      "\n",
      "See the caveats in the documentation: https://pandas.pydata.org/pandas-docs/stable/user_guide/indexing.html#returning-a-view-versus-a-copy\n"
     ]
    },
    {
     "name": "stdout",
     "output_type": "stream",
     "text": [
      "\n",
      "2019-06-24 Model Results\n",
      "Training data r2: 0.662\n",
      "Testing data r2: 0.051\n",
      "Training data MAPE: 6.243\n",
      "Testing data MAPE: 13.489\n",
      "Epoch 00013: early stopping\n",
      "Epoch 00015: early stopping\n",
      "Epoch 00008: early stopping\n",
      "Epoch 00011: early stopping\n",
      "Epoch 00009: early stopping\n"
     ]
    },
    {
     "name": "stderr",
     "output_type": "stream",
     "text": [
      "C:\\Users\\tawha\\anaconda3\\lib\\site-packages\\ipykernel_launcher.py:85: SettingWithCopyWarning: \n",
      "A value is trying to be set on a copy of a slice from a DataFrame.\n",
      "Try using .loc[row_indexer,col_indexer] = value instead\n",
      "\n",
      "See the caveats in the documentation: https://pandas.pydata.org/pandas-docs/stable/user_guide/indexing.html#returning-a-view-versus-a-copy\n",
      "C:\\Users\\tawha\\anaconda3\\lib\\site-packages\\ipykernel_launcher.py:86: SettingWithCopyWarning: \n",
      "A value is trying to be set on a copy of a slice from a DataFrame.\n",
      "Try using .loc[row_indexer,col_indexer] = value instead\n",
      "\n",
      "See the caveats in the documentation: https://pandas.pydata.org/pandas-docs/stable/user_guide/indexing.html#returning-a-view-versus-a-copy\n"
     ]
    },
    {
     "name": "stdout",
     "output_type": "stream",
     "text": [
      "\n",
      "2019-07-01 Model Results\n",
      "Training data r2: 0.787\n",
      "Testing data r2: 0.542\n",
      "Training data MAPE: 5.178\n",
      "Testing data MAPE: 8.747\n",
      "Epoch 00011: early stopping\n",
      "Epoch 00013: early stopping\n",
      "Epoch 00010: early stopping\n",
      "Epoch 00011: early stopping\n",
      "Epoch 00013: early stopping\n"
     ]
    },
    {
     "name": "stderr",
     "output_type": "stream",
     "text": [
      "C:\\Users\\tawha\\anaconda3\\lib\\site-packages\\ipykernel_launcher.py:85: SettingWithCopyWarning: \n",
      "A value is trying to be set on a copy of a slice from a DataFrame.\n",
      "Try using .loc[row_indexer,col_indexer] = value instead\n",
      "\n",
      "See the caveats in the documentation: https://pandas.pydata.org/pandas-docs/stable/user_guide/indexing.html#returning-a-view-versus-a-copy\n",
      "C:\\Users\\tawha\\anaconda3\\lib\\site-packages\\ipykernel_launcher.py:86: SettingWithCopyWarning: \n",
      "A value is trying to be set on a copy of a slice from a DataFrame.\n",
      "Try using .loc[row_indexer,col_indexer] = value instead\n",
      "\n",
      "See the caveats in the documentation: https://pandas.pydata.org/pandas-docs/stable/user_guide/indexing.html#returning-a-view-versus-a-copy\n"
     ]
    },
    {
     "name": "stdout",
     "output_type": "stream",
     "text": [
      "\n",
      "2019-07-08 Model Results\n",
      "Training data r2: -0.526\n",
      "Testing data r2: -1.859\n",
      "Training data MAPE: 16.35\n",
      "Testing data MAPE: 24.283\n",
      "Epoch 00012: early stopping\n",
      "Epoch 00018: early stopping\n",
      "Epoch 00014: early stopping\n",
      "Epoch 00016: early stopping\n",
      "Epoch 00016: early stopping\n"
     ]
    },
    {
     "name": "stderr",
     "output_type": "stream",
     "text": [
      "C:\\Users\\tawha\\anaconda3\\lib\\site-packages\\ipykernel_launcher.py:85: SettingWithCopyWarning: \n",
      "A value is trying to be set on a copy of a slice from a DataFrame.\n",
      "Try using .loc[row_indexer,col_indexer] = value instead\n",
      "\n",
      "See the caveats in the documentation: https://pandas.pydata.org/pandas-docs/stable/user_guide/indexing.html#returning-a-view-versus-a-copy\n",
      "C:\\Users\\tawha\\anaconda3\\lib\\site-packages\\ipykernel_launcher.py:86: SettingWithCopyWarning: \n",
      "A value is trying to be set on a copy of a slice from a DataFrame.\n",
      "Try using .loc[row_indexer,col_indexer] = value instead\n",
      "\n",
      "See the caveats in the documentation: https://pandas.pydata.org/pandas-docs/stable/user_guide/indexing.html#returning-a-view-versus-a-copy\n"
     ]
    },
    {
     "name": "stdout",
     "output_type": "stream",
     "text": [
      "\n",
      "2019-07-15 Model Results\n",
      "Training data r2: 0.814\n",
      "Testing data r2: 0.829\n",
      "Training data MAPE: 5.999\n",
      "Testing data MAPE: 5.871\n",
      "Epoch 00014: early stopping\n",
      "Epoch 00013: early stopping\n",
      "Epoch 00013: early stopping\n",
      "Epoch 00017: early stopping\n",
      "Epoch 00011: early stopping\n"
     ]
    },
    {
     "name": "stderr",
     "output_type": "stream",
     "text": [
      "C:\\Users\\tawha\\anaconda3\\lib\\site-packages\\ipykernel_launcher.py:85: SettingWithCopyWarning: \n",
      "A value is trying to be set on a copy of a slice from a DataFrame.\n",
      "Try using .loc[row_indexer,col_indexer] = value instead\n",
      "\n",
      "See the caveats in the documentation: https://pandas.pydata.org/pandas-docs/stable/user_guide/indexing.html#returning-a-view-versus-a-copy\n",
      "C:\\Users\\tawha\\anaconda3\\lib\\site-packages\\ipykernel_launcher.py:86: SettingWithCopyWarning: \n",
      "A value is trying to be set on a copy of a slice from a DataFrame.\n",
      "Try using .loc[row_indexer,col_indexer] = value instead\n",
      "\n",
      "See the caveats in the documentation: https://pandas.pydata.org/pandas-docs/stable/user_guide/indexing.html#returning-a-view-versus-a-copy\n"
     ]
    },
    {
     "name": "stdout",
     "output_type": "stream",
     "text": [
      "\n",
      "2019-07-22 Model Results\n",
      "Training data r2: 0.173\n",
      "Testing data r2: -0.045\n",
      "Training data MAPE: 11.07\n",
      "Testing data MAPE: 13.474\n",
      "Epoch 00015: early stopping\n",
      "Epoch 00012: early stopping\n",
      "Epoch 00012: early stopping\n",
      "Epoch 00014: early stopping\n",
      "Epoch 00008: early stopping\n"
     ]
    },
    {
     "name": "stderr",
     "output_type": "stream",
     "text": [
      "C:\\Users\\tawha\\anaconda3\\lib\\site-packages\\ipykernel_launcher.py:85: SettingWithCopyWarning: \n",
      "A value is trying to be set on a copy of a slice from a DataFrame.\n",
      "Try using .loc[row_indexer,col_indexer] = value instead\n",
      "\n",
      "See the caveats in the documentation: https://pandas.pydata.org/pandas-docs/stable/user_guide/indexing.html#returning-a-view-versus-a-copy\n",
      "C:\\Users\\tawha\\anaconda3\\lib\\site-packages\\ipykernel_launcher.py:86: SettingWithCopyWarning: \n",
      "A value is trying to be set on a copy of a slice from a DataFrame.\n",
      "Try using .loc[row_indexer,col_indexer] = value instead\n",
      "\n",
      "See the caveats in the documentation: https://pandas.pydata.org/pandas-docs/stable/user_guide/indexing.html#returning-a-view-versus-a-copy\n"
     ]
    },
    {
     "name": "stdout",
     "output_type": "stream",
     "text": [
      "\n",
      "2019-07-29 Model Results\n",
      "Training data r2: 0.742\n",
      "Testing data r2: 0.557\n",
      "Training data MAPE: 5.84\n",
      "Testing data MAPE: 8.766\n",
      "Epoch 00011: early stopping\n",
      "Epoch 00009: early stopping\n",
      "Epoch 00016: early stopping\n",
      "Epoch 00012: early stopping\n",
      "Epoch 00013: early stopping\n"
     ]
    },
    {
     "name": "stderr",
     "output_type": "stream",
     "text": [
      "C:\\Users\\tawha\\anaconda3\\lib\\site-packages\\ipykernel_launcher.py:85: SettingWithCopyWarning: \n",
      "A value is trying to be set on a copy of a slice from a DataFrame.\n",
      "Try using .loc[row_indexer,col_indexer] = value instead\n",
      "\n",
      "See the caveats in the documentation: https://pandas.pydata.org/pandas-docs/stable/user_guide/indexing.html#returning-a-view-versus-a-copy\n",
      "C:\\Users\\tawha\\anaconda3\\lib\\site-packages\\ipykernel_launcher.py:86: SettingWithCopyWarning: \n",
      "A value is trying to be set on a copy of a slice from a DataFrame.\n",
      "Try using .loc[row_indexer,col_indexer] = value instead\n",
      "\n",
      "See the caveats in the documentation: https://pandas.pydata.org/pandas-docs/stable/user_guide/indexing.html#returning-a-view-versus-a-copy\n"
     ]
    },
    {
     "name": "stdout",
     "output_type": "stream",
     "text": [
      "\n",
      "2019-08-05 Model Results\n",
      "Training data r2: 0.815\n",
      "Testing data r2: 0.639\n",
      "Training data MAPE: 5.598\n",
      "Testing data MAPE: 8.953\n",
      "Epoch 00012: early stopping\n",
      "Epoch 00012: early stopping\n",
      "Epoch 00018: early stopping\n",
      "Epoch 00015: early stopping\n",
      "Epoch 00009: early stopping\n"
     ]
    },
    {
     "name": "stderr",
     "output_type": "stream",
     "text": [
      "C:\\Users\\tawha\\anaconda3\\lib\\site-packages\\ipykernel_launcher.py:85: SettingWithCopyWarning: \n",
      "A value is trying to be set on a copy of a slice from a DataFrame.\n",
      "Try using .loc[row_indexer,col_indexer] = value instead\n",
      "\n",
      "See the caveats in the documentation: https://pandas.pydata.org/pandas-docs/stable/user_guide/indexing.html#returning-a-view-versus-a-copy\n",
      "C:\\Users\\tawha\\anaconda3\\lib\\site-packages\\ipykernel_launcher.py:86: SettingWithCopyWarning: \n",
      "A value is trying to be set on a copy of a slice from a DataFrame.\n",
      "Try using .loc[row_indexer,col_indexer] = value instead\n",
      "\n",
      "See the caveats in the documentation: https://pandas.pydata.org/pandas-docs/stable/user_guide/indexing.html#returning-a-view-versus-a-copy\n"
     ]
    },
    {
     "name": "stdout",
     "output_type": "stream",
     "text": [
      "\n",
      "2019-08-12 Model Results\n",
      "Training data r2: 0.867\n",
      "Testing data r2: 0.79\n",
      "Training data MAPE: 4.485\n",
      "Testing data MAPE: 6.548\n",
      "Epoch 00007: early stopping\n",
      "Epoch 00014: early stopping\n",
      "Epoch 00007: early stopping\n",
      "Epoch 00008: early stopping\n",
      "Epoch 00012: early stopping\n"
     ]
    },
    {
     "name": "stderr",
     "output_type": "stream",
     "text": [
      "C:\\Users\\tawha\\anaconda3\\lib\\site-packages\\ipykernel_launcher.py:85: SettingWithCopyWarning: \n",
      "A value is trying to be set on a copy of a slice from a DataFrame.\n",
      "Try using .loc[row_indexer,col_indexer] = value instead\n",
      "\n",
      "See the caveats in the documentation: https://pandas.pydata.org/pandas-docs/stable/user_guide/indexing.html#returning-a-view-versus-a-copy\n",
      "C:\\Users\\tawha\\anaconda3\\lib\\site-packages\\ipykernel_launcher.py:86: SettingWithCopyWarning: \n",
      "A value is trying to be set on a copy of a slice from a DataFrame.\n",
      "Try using .loc[row_indexer,col_indexer] = value instead\n",
      "\n",
      "See the caveats in the documentation: https://pandas.pydata.org/pandas-docs/stable/user_guide/indexing.html#returning-a-view-versus-a-copy\n"
     ]
    },
    {
     "name": "stdout",
     "output_type": "stream",
     "text": [
      "\n",
      "2019-08-19 Model Results\n",
      "Training data r2: 0.486\n",
      "Testing data r2: 0.422\n",
      "Training data MAPE: 9.313\n",
      "Testing data MAPE: 11.342\n",
      "Epoch 00018: early stopping\n",
      "Epoch 00011: early stopping\n",
      "Epoch 00012: early stopping\n",
      "Epoch 00011: early stopping\n",
      "Epoch 00008: early stopping\n"
     ]
    },
    {
     "name": "stderr",
     "output_type": "stream",
     "text": [
      "C:\\Users\\tawha\\anaconda3\\lib\\site-packages\\ipykernel_launcher.py:85: SettingWithCopyWarning: \n",
      "A value is trying to be set on a copy of a slice from a DataFrame.\n",
      "Try using .loc[row_indexer,col_indexer] = value instead\n",
      "\n",
      "See the caveats in the documentation: https://pandas.pydata.org/pandas-docs/stable/user_guide/indexing.html#returning-a-view-versus-a-copy\n",
      "C:\\Users\\tawha\\anaconda3\\lib\\site-packages\\ipykernel_launcher.py:86: SettingWithCopyWarning: \n",
      "A value is trying to be set on a copy of a slice from a DataFrame.\n",
      "Try using .loc[row_indexer,col_indexer] = value instead\n",
      "\n",
      "See the caveats in the documentation: https://pandas.pydata.org/pandas-docs/stable/user_guide/indexing.html#returning-a-view-versus-a-copy\n"
     ]
    },
    {
     "name": "stdout",
     "output_type": "stream",
     "text": [
      "\n",
      "2019-08-26 Model Results\n",
      "Training data r2: 0.803\n",
      "Testing data r2: 0.692\n",
      "Training data MAPE: 5.094\n",
      "Testing data MAPE: 6.639\n",
      "Epoch 00014: early stopping\n",
      "Epoch 00010: early stopping\n",
      "Epoch 00010: early stopping\n",
      "Epoch 00009: early stopping\n",
      "Epoch 00024: early stopping\n"
     ]
    },
    {
     "name": "stderr",
     "output_type": "stream",
     "text": [
      "C:\\Users\\tawha\\anaconda3\\lib\\site-packages\\ipykernel_launcher.py:85: SettingWithCopyWarning: \n",
      "A value is trying to be set on a copy of a slice from a DataFrame.\n",
      "Try using .loc[row_indexer,col_indexer] = value instead\n",
      "\n",
      "See the caveats in the documentation: https://pandas.pydata.org/pandas-docs/stable/user_guide/indexing.html#returning-a-view-versus-a-copy\n",
      "C:\\Users\\tawha\\anaconda3\\lib\\site-packages\\ipykernel_launcher.py:86: SettingWithCopyWarning: \n",
      "A value is trying to be set on a copy of a slice from a DataFrame.\n",
      "Try using .loc[row_indexer,col_indexer] = value instead\n",
      "\n",
      "See the caveats in the documentation: https://pandas.pydata.org/pandas-docs/stable/user_guide/indexing.html#returning-a-view-versus-a-copy\n"
     ]
    },
    {
     "name": "stdout",
     "output_type": "stream",
     "text": [
      "\n",
      "2019-09-02 Model Results\n",
      "Training data r2: 0.885\n",
      "Testing data r2: 0.615\n",
      "Training data MAPE: 4.208\n",
      "Testing data MAPE: 7.075\n",
      "Epoch 00011: early stopping\n",
      "Epoch 00020: early stopping\n",
      "Epoch 00014: early stopping\n",
      "Epoch 00014: early stopping\n",
      "Epoch 00009: early stopping\n"
     ]
    },
    {
     "name": "stderr",
     "output_type": "stream",
     "text": [
      "C:\\Users\\tawha\\anaconda3\\lib\\site-packages\\ipykernel_launcher.py:85: SettingWithCopyWarning: \n",
      "A value is trying to be set on a copy of a slice from a DataFrame.\n",
      "Try using .loc[row_indexer,col_indexer] = value instead\n",
      "\n",
      "See the caveats in the documentation: https://pandas.pydata.org/pandas-docs/stable/user_guide/indexing.html#returning-a-view-versus-a-copy\n",
      "C:\\Users\\tawha\\anaconda3\\lib\\site-packages\\ipykernel_launcher.py:86: SettingWithCopyWarning: \n",
      "A value is trying to be set on a copy of a slice from a DataFrame.\n",
      "Try using .loc[row_indexer,col_indexer] = value instead\n",
      "\n",
      "See the caveats in the documentation: https://pandas.pydata.org/pandas-docs/stable/user_guide/indexing.html#returning-a-view-versus-a-copy\n"
     ]
    },
    {
     "name": "stdout",
     "output_type": "stream",
     "text": [
      "\n",
      "2019-09-09 Model Results\n",
      "Training data r2: 0.847\n",
      "Testing data r2: 0.692\n",
      "Training data MAPE: 4.799\n",
      "Testing data MAPE: 6.303\n",
      "Epoch 00015: early stopping\n",
      "Epoch 00008: early stopping\n",
      "Epoch 00021: early stopping\n",
      "Epoch 00006: early stopping\n",
      "Epoch 00008: early stopping\n"
     ]
    },
    {
     "name": "stderr",
     "output_type": "stream",
     "text": [
      "C:\\Users\\tawha\\anaconda3\\lib\\site-packages\\ipykernel_launcher.py:85: SettingWithCopyWarning: \n",
      "A value is trying to be set on a copy of a slice from a DataFrame.\n",
      "Try using .loc[row_indexer,col_indexer] = value instead\n",
      "\n",
      "See the caveats in the documentation: https://pandas.pydata.org/pandas-docs/stable/user_guide/indexing.html#returning-a-view-versus-a-copy\n",
      "C:\\Users\\tawha\\anaconda3\\lib\\site-packages\\ipykernel_launcher.py:86: SettingWithCopyWarning: \n",
      "A value is trying to be set on a copy of a slice from a DataFrame.\n",
      "Try using .loc[row_indexer,col_indexer] = value instead\n",
      "\n",
      "See the caveats in the documentation: https://pandas.pydata.org/pandas-docs/stable/user_guide/indexing.html#returning-a-view-versus-a-copy\n"
     ]
    },
    {
     "name": "stdout",
     "output_type": "stream",
     "text": [
      "\n",
      "2019-09-16 Model Results\n",
      "Training data r2: 0.845\n",
      "Testing data r2: 0.583\n",
      "Training data MAPE: 4.745\n",
      "Testing data MAPE: 8.384\n",
      "Epoch 00006: early stopping\n",
      "Epoch 00011: early stopping\n",
      "Epoch 00016: early stopping\n",
      "Epoch 00012: early stopping\n",
      "Epoch 00021: early stopping\n"
     ]
    },
    {
     "name": "stderr",
     "output_type": "stream",
     "text": [
      "C:\\Users\\tawha\\anaconda3\\lib\\site-packages\\ipykernel_launcher.py:85: SettingWithCopyWarning: \n",
      "A value is trying to be set on a copy of a slice from a DataFrame.\n",
      "Try using .loc[row_indexer,col_indexer] = value instead\n",
      "\n",
      "See the caveats in the documentation: https://pandas.pydata.org/pandas-docs/stable/user_guide/indexing.html#returning-a-view-versus-a-copy\n",
      "C:\\Users\\tawha\\anaconda3\\lib\\site-packages\\ipykernel_launcher.py:86: SettingWithCopyWarning: \n",
      "A value is trying to be set on a copy of a slice from a DataFrame.\n",
      "Try using .loc[row_indexer,col_indexer] = value instead\n",
      "\n",
      "See the caveats in the documentation: https://pandas.pydata.org/pandas-docs/stable/user_guide/indexing.html#returning-a-view-versus-a-copy\n"
     ]
    },
    {
     "name": "stdout",
     "output_type": "stream",
     "text": [
      "\n",
      "2019-09-23 Model Results\n",
      "Training data r2: 0.677\n",
      "Testing data r2: 0.501\n",
      "Training data MAPE: 7.54\n",
      "Testing data MAPE: 5.697\n",
      "Epoch 00019: early stopping\n",
      "Epoch 00008: early stopping\n",
      "Epoch 00007: early stopping\n",
      "Epoch 00011: early stopping\n",
      "Epoch 00012: early stopping\n"
     ]
    },
    {
     "name": "stderr",
     "output_type": "stream",
     "text": [
      "C:\\Users\\tawha\\anaconda3\\lib\\site-packages\\ipykernel_launcher.py:85: SettingWithCopyWarning: \n",
      "A value is trying to be set on a copy of a slice from a DataFrame.\n",
      "Try using .loc[row_indexer,col_indexer] = value instead\n",
      "\n",
      "See the caveats in the documentation: https://pandas.pydata.org/pandas-docs/stable/user_guide/indexing.html#returning-a-view-versus-a-copy\n",
      "C:\\Users\\tawha\\anaconda3\\lib\\site-packages\\ipykernel_launcher.py:86: SettingWithCopyWarning: \n",
      "A value is trying to be set on a copy of a slice from a DataFrame.\n",
      "Try using .loc[row_indexer,col_indexer] = value instead\n",
      "\n",
      "See the caveats in the documentation: https://pandas.pydata.org/pandas-docs/stable/user_guide/indexing.html#returning-a-view-versus-a-copy\n"
     ]
    },
    {
     "name": "stdout",
     "output_type": "stream",
     "text": [
      "\n",
      "2019-09-30 Model Results\n",
      "Training data r2: 0.612\n",
      "Testing data r2: 0.2\n",
      "Training data MAPE: 9.109\n",
      "Testing data MAPE: 5.832\n",
      "Epoch 00014: early stopping\n",
      "Epoch 00015: early stopping\n",
      "Epoch 00011: early stopping\n",
      "Epoch 00017: early stopping\n",
      "Epoch 00011: early stopping\n"
     ]
    },
    {
     "name": "stderr",
     "output_type": "stream",
     "text": [
      "C:\\Users\\tawha\\anaconda3\\lib\\site-packages\\ipykernel_launcher.py:85: SettingWithCopyWarning: \n",
      "A value is trying to be set on a copy of a slice from a DataFrame.\n",
      "Try using .loc[row_indexer,col_indexer] = value instead\n",
      "\n",
      "See the caveats in the documentation: https://pandas.pydata.org/pandas-docs/stable/user_guide/indexing.html#returning-a-view-versus-a-copy\n",
      "C:\\Users\\tawha\\anaconda3\\lib\\site-packages\\ipykernel_launcher.py:86: SettingWithCopyWarning: \n",
      "A value is trying to be set on a copy of a slice from a DataFrame.\n",
      "Try using .loc[row_indexer,col_indexer] = value instead\n",
      "\n",
      "See the caveats in the documentation: https://pandas.pydata.org/pandas-docs/stable/user_guide/indexing.html#returning-a-view-versus-a-copy\n"
     ]
    },
    {
     "name": "stdout",
     "output_type": "stream",
     "text": [
      "\n",
      "2019-10-07 Model Results\n",
      "Training data r2: 0.835\n",
      "Testing data r2: -0.015\n",
      "Training data MAPE: 5.153\n",
      "Testing data MAPE: 10.043\n",
      "Epoch 00024: early stopping\n",
      "Epoch 00013: early stopping\n",
      "Epoch 00009: early stopping\n",
      "Epoch 00013: early stopping\n",
      "Epoch 00015: early stopping\n"
     ]
    },
    {
     "name": "stderr",
     "output_type": "stream",
     "text": [
      "C:\\Users\\tawha\\anaconda3\\lib\\site-packages\\ipykernel_launcher.py:85: SettingWithCopyWarning: \n",
      "A value is trying to be set on a copy of a slice from a DataFrame.\n",
      "Try using .loc[row_indexer,col_indexer] = value instead\n",
      "\n",
      "See the caveats in the documentation: https://pandas.pydata.org/pandas-docs/stable/user_guide/indexing.html#returning-a-view-versus-a-copy\n",
      "C:\\Users\\tawha\\anaconda3\\lib\\site-packages\\ipykernel_launcher.py:86: SettingWithCopyWarning: \n",
      "A value is trying to be set on a copy of a slice from a DataFrame.\n",
      "Try using .loc[row_indexer,col_indexer] = value instead\n",
      "\n",
      "See the caveats in the documentation: https://pandas.pydata.org/pandas-docs/stable/user_guide/indexing.html#returning-a-view-versus-a-copy\n"
     ]
    },
    {
     "name": "stdout",
     "output_type": "stream",
     "text": [
      "\n",
      "2019-10-14 Model Results\n",
      "Training data r2: 0.899\n",
      "Testing data r2: 0.717\n",
      "Training data MAPE: 3.965\n",
      "Testing data MAPE: 4.352\n",
      "Epoch 00013: early stopping\n",
      "Epoch 00013: early stopping\n",
      "Epoch 00021: early stopping\n",
      "Epoch 00007: early stopping\n",
      "Epoch 00015: early stopping\n"
     ]
    },
    {
     "name": "stderr",
     "output_type": "stream",
     "text": [
      "C:\\Users\\tawha\\anaconda3\\lib\\site-packages\\ipykernel_launcher.py:85: SettingWithCopyWarning: \n",
      "A value is trying to be set on a copy of a slice from a DataFrame.\n",
      "Try using .loc[row_indexer,col_indexer] = value instead\n",
      "\n",
      "See the caveats in the documentation: https://pandas.pydata.org/pandas-docs/stable/user_guide/indexing.html#returning-a-view-versus-a-copy\n",
      "C:\\Users\\tawha\\anaconda3\\lib\\site-packages\\ipykernel_launcher.py:86: SettingWithCopyWarning: \n",
      "A value is trying to be set on a copy of a slice from a DataFrame.\n",
      "Try using .loc[row_indexer,col_indexer] = value instead\n",
      "\n",
      "See the caveats in the documentation: https://pandas.pydata.org/pandas-docs/stable/user_guide/indexing.html#returning-a-view-versus-a-copy\n"
     ]
    },
    {
     "name": "stdout",
     "output_type": "stream",
     "text": [
      "\n",
      "2019-10-21 Model Results\n",
      "Training data r2: 0.89\n",
      "Testing data r2: 0.771\n",
      "Training data MAPE: 4.183\n",
      "Testing data MAPE: 4.007\n",
      "Epoch 00008: early stopping\n",
      "Epoch 00009: early stopping\n",
      "Epoch 00020: early stopping\n",
      "Epoch 00009: early stopping\n",
      "Epoch 00012: early stopping\n"
     ]
    },
    {
     "name": "stderr",
     "output_type": "stream",
     "text": [
      "C:\\Users\\tawha\\anaconda3\\lib\\site-packages\\ipykernel_launcher.py:85: SettingWithCopyWarning: \n",
      "A value is trying to be set on a copy of a slice from a DataFrame.\n",
      "Try using .loc[row_indexer,col_indexer] = value instead\n",
      "\n",
      "See the caveats in the documentation: https://pandas.pydata.org/pandas-docs/stable/user_guide/indexing.html#returning-a-view-versus-a-copy\n",
      "C:\\Users\\tawha\\anaconda3\\lib\\site-packages\\ipykernel_launcher.py:86: SettingWithCopyWarning: \n",
      "A value is trying to be set on a copy of a slice from a DataFrame.\n",
      "Try using .loc[row_indexer,col_indexer] = value instead\n",
      "\n",
      "See the caveats in the documentation: https://pandas.pydata.org/pandas-docs/stable/user_guide/indexing.html#returning-a-view-versus-a-copy\n"
     ]
    },
    {
     "name": "stdout",
     "output_type": "stream",
     "text": [
      "\n",
      "2019-10-28 Model Results\n",
      "Training data r2: 0.761\n",
      "Testing data r2: 0.231\n",
      "Training data MAPE: 6.214\n",
      "Testing data MAPE: 6.178\n",
      "Epoch 00014: early stopping\n",
      "Epoch 00009: early stopping\n",
      "Epoch 00009: early stopping\n",
      "Epoch 00014: early stopping\n",
      "Epoch 00007: early stopping\n"
     ]
    },
    {
     "name": "stderr",
     "output_type": "stream",
     "text": [
      "C:\\Users\\tawha\\anaconda3\\lib\\site-packages\\ipykernel_launcher.py:85: SettingWithCopyWarning: \n",
      "A value is trying to be set on a copy of a slice from a DataFrame.\n",
      "Try using .loc[row_indexer,col_indexer] = value instead\n",
      "\n",
      "See the caveats in the documentation: https://pandas.pydata.org/pandas-docs/stable/user_guide/indexing.html#returning-a-view-versus-a-copy\n",
      "C:\\Users\\tawha\\anaconda3\\lib\\site-packages\\ipykernel_launcher.py:86: SettingWithCopyWarning: \n",
      "A value is trying to be set on a copy of a slice from a DataFrame.\n",
      "Try using .loc[row_indexer,col_indexer] = value instead\n",
      "\n",
      "See the caveats in the documentation: https://pandas.pydata.org/pandas-docs/stable/user_guide/indexing.html#returning-a-view-versus-a-copy\n"
     ]
    },
    {
     "name": "stdout",
     "output_type": "stream",
     "text": [
      "\n",
      "2019-11-04 Model Results\n",
      "Training data r2: 0.844\n",
      "Testing data r2: 0.626\n",
      "Training data MAPE: 4.984\n",
      "Testing data MAPE: 4.382\n",
      "Epoch 00015: early stopping\n",
      "Epoch 00016: early stopping\n",
      "Epoch 00008: early stopping\n",
      "Epoch 00009: early stopping\n",
      "Epoch 00014: early stopping\n"
     ]
    },
    {
     "name": "stderr",
     "output_type": "stream",
     "text": [
      "C:\\Users\\tawha\\anaconda3\\lib\\site-packages\\ipykernel_launcher.py:85: SettingWithCopyWarning: \n",
      "A value is trying to be set on a copy of a slice from a DataFrame.\n",
      "Try using .loc[row_indexer,col_indexer] = value instead\n",
      "\n",
      "See the caveats in the documentation: https://pandas.pydata.org/pandas-docs/stable/user_guide/indexing.html#returning-a-view-versus-a-copy\n",
      "C:\\Users\\tawha\\anaconda3\\lib\\site-packages\\ipykernel_launcher.py:86: SettingWithCopyWarning: \n",
      "A value is trying to be set on a copy of a slice from a DataFrame.\n",
      "Try using .loc[row_indexer,col_indexer] = value instead\n",
      "\n",
      "See the caveats in the documentation: https://pandas.pydata.org/pandas-docs/stable/user_guide/indexing.html#returning-a-view-versus-a-copy\n"
     ]
    },
    {
     "name": "stdout",
     "output_type": "stream",
     "text": [
      "\n",
      "2019-11-11 Model Results\n",
      "Training data r2: 0.516\n",
      "Testing data r2: -0.656\n",
      "Training data MAPE: 8.703\n",
      "Testing data MAPE: 10.435\n",
      "Epoch 00011: early stopping\n",
      "Epoch 00014: early stopping\n",
      "Epoch 00019: early stopping\n",
      "Epoch 00010: early stopping\n",
      "Epoch 00011: early stopping\n"
     ]
    },
    {
     "name": "stderr",
     "output_type": "stream",
     "text": [
      "C:\\Users\\tawha\\anaconda3\\lib\\site-packages\\ipykernel_launcher.py:85: SettingWithCopyWarning: \n",
      "A value is trying to be set on a copy of a slice from a DataFrame.\n",
      "Try using .loc[row_indexer,col_indexer] = value instead\n",
      "\n",
      "See the caveats in the documentation: https://pandas.pydata.org/pandas-docs/stable/user_guide/indexing.html#returning-a-view-versus-a-copy\n",
      "C:\\Users\\tawha\\anaconda3\\lib\\site-packages\\ipykernel_launcher.py:86: SettingWithCopyWarning: \n",
      "A value is trying to be set on a copy of a slice from a DataFrame.\n",
      "Try using .loc[row_indexer,col_indexer] = value instead\n",
      "\n",
      "See the caveats in the documentation: https://pandas.pydata.org/pandas-docs/stable/user_guide/indexing.html#returning-a-view-versus-a-copy\n"
     ]
    },
    {
     "name": "stdout",
     "output_type": "stream",
     "text": [
      "\n",
      "2019-11-18 Model Results\n",
      "Training data r2: 0.841\n",
      "Testing data r2: 0.566\n",
      "Training data MAPE: 4.964\n",
      "Testing data MAPE: 5.215\n",
      "Epoch 00012: early stopping\n",
      "Epoch 00010: early stopping\n",
      "Epoch 00007: early stopping\n",
      "Epoch 00010: early stopping\n",
      "Epoch 00006: early stopping\n",
      "\n",
      "2019-11-25 Model Results\n",
      "Training data r2: 0.708\n",
      "Testing data r2: -0.052\n",
      "Training data MAPE: 6.602\n",
      "Testing data MAPE: 6.89\n",
      "\n",
      "All RNN fits completed in 16204.68 seconds\n"
     ]
    },
    {
     "name": "stderr",
     "output_type": "stream",
     "text": [
      "C:\\Users\\tawha\\anaconda3\\lib\\site-packages\\ipykernel_launcher.py:85: SettingWithCopyWarning: \n",
      "A value is trying to be set on a copy of a slice from a DataFrame.\n",
      "Try using .loc[row_indexer,col_indexer] = value instead\n",
      "\n",
      "See the caveats in the documentation: https://pandas.pydata.org/pandas-docs/stable/user_guide/indexing.html#returning-a-view-versus-a-copy\n",
      "C:\\Users\\tawha\\anaconda3\\lib\\site-packages\\ipykernel_launcher.py:86: SettingWithCopyWarning: \n",
      "A value is trying to be set on a copy of a slice from a DataFrame.\n",
      "Try using .loc[row_indexer,col_indexer] = value instead\n",
      "\n",
      "See the caveats in the documentation: https://pandas.pydata.org/pandas-docs/stable/user_guide/indexing.html#returning-a-view-versus-a-copy\n"
     ]
    }
   ],
   "source": [
    "##### RNN ON MOVING TRAINING WINDOW #####\n",
    "tic = timeit.default_timer()\n",
    "print(\"\\nDefining training set, building and training models...\")\n",
    "\n",
    "# Define shift variable for taking moving sample of data\n",
    "data_shift = 0\n",
    "\n",
    "while data_shift + 18240 < df_full.shape[0]:\n",
    "# while data_shift == 0 :\n",
    "    ##### FINAL DATA PREPARATION #####\n",
    "    \n",
    "    # Limit dataset to roughly 13 months of data (18240 hours)\n",
    "    df_modeling = df_full.iloc[data_shift:18240 + data_shift,:].copy()\n",
    "    \n",
    "    # Use Patsy to create the one-hot encoded dummy variables with interactions \n",
    "    y, X =  dmatrices('value~Light+WWP+THI+Month+Day+WeekDay+Hour+Holiday',df_modeling,return_type='dataframe')\n",
    "\n",
    "    # Split data into training and testing data sets with two-year training sample (8760 h/yr * 2)\n",
    "    X_train, X_test, y_train, y_test = train_test_split(X, y, train_size = 17520 / X.shape[0], shuffle = False)\n",
    "\n",
    "    # Standardize both datasets - create fit to use on backcast dataset\n",
    "    ss = StandardScaler()\n",
    "\n",
    "    X_train_ss = ss.fit_transform(X_train)\n",
    "    X_test_ss = ss.transform(X_test)\n",
    "    \n",
    "    # Limit dataset to roughly 13 months of data (18240 hours)\n",
    "    df_modeling = df_full.iloc[data_shift:18240 + data_shift,:].copy()\n",
    "\n",
    "    # Set random seed\n",
    "    random.seed(283)\n",
    "    set_seed(283)\n",
    "\n",
    "    # Create output dataframes for individual predictions\n",
    "    df_preds_train = pd.DataFrame()\n",
    "    df_preds_test = pd.DataFrame()\n",
    "\n",
    "    for x in range(5):\n",
    "        # Create training sequences\n",
    "        train_sequences = TimeseriesGenerator(X_train_ss, y_train['value'],\n",
    "                                              length = param_dict['seq_length'],\n",
    "                                              batch_size = param_dict['seq_batch_size'])\n",
    "\n",
    "        # Create test sequences\n",
    "        test_sequences = TimeseriesGenerator(X_test_ss, y_test['value']\n",
    "                                             ,length = param_dict['seq_length']\n",
    "                                             ,batch_size = param_dict['seq_batch_size'])\n",
    "\n",
    "        ##### RNN MODEL #####\n",
    "        # Instantiate model and construct all layers\n",
    "        model = Sequential()\n",
    "        model.add(GRU(param_dict['layer_one_neurons'], input_shape = (param_dict['seq_length'],75),\n",
    "                      return_sequences = True, activation = 'relu', ))\n",
    "        model.add(Dropout(param_dict['dropout_rate']))\n",
    "        model.add(GRU(param_dict['layer_two_neurons'], return_sequences = True, activation = 'relu'))\n",
    "        model.add(Dropout(param_dict['dropout_rate']))\n",
    "        model.add(GRU(param_dict['layer_three_neurons'], return_sequences = True, activation = 'relu'))\n",
    "        model.add(Dropout(param_dict['dropout_rate']))\n",
    "        model.add(GRU(param_dict['layer_four_neurons'], return_sequences = False, activation = 'relu'))\n",
    "        model.add(Dropout(param_dict['dropout_rate']))\n",
    "        model.add(Dense(1, activation = 'linear'))\n",
    "\n",
    "        # Compile and fit model\n",
    "        model.compile(optimizer = Adam(learning_rate = param_dict['learning_rate']),\n",
    "                      loss = 'mean_squared_error',\n",
    "                      metrics = 'mean_absolute_percentage_error')\n",
    "\n",
    "        early_stop = EarlyStopping(monitor='val_loss', min_delta=0, patience = param_dict['stop_patience'], verbose=1, mode='auto')\n",
    "\n",
    "        model.fit(train_sequences,\n",
    "                  validation_data = test_sequences,\n",
    "                  epochs = param_dict['epochs'],\n",
    "                  callbacks = [early_stop],\n",
    "                  verbose = False)\n",
    "\n",
    "        # Write predictions to dataframe, adding nulls equal to lag\n",
    "        df_preds_train[x] = np.append([np.NaN] * param_dict['seq_length'], model.predict(train_sequences).transpose())\n",
    "        df_preds_test[x] = np.append([np.NaN] * param_dict['seq_length'], model.predict(test_sequences).transpose())\n",
    "\n",
    "    # Define name for current model as first date of the testing dataset\n",
    "    model_date = datetime.date(X_test.index[0])\n",
    "    \n",
    "    # Create ensemble prediction and add to final output dataframes\n",
    "    # NOTE: This would be a good spot for future improvement by creating weighting for the ensemble models\n",
    "    y_train[model_date] = df_preds_train.mean(axis=1).tolist()\n",
    "    y_test[model_date] = df_preds_test.mean(axis=1).tolist()\n",
    "    \n",
    "    # Output model results\n",
    "    print('\\n%s Model Results' % (model_date))\n",
    "    \n",
    "    # Create mask to exclude all records with null values for the give dataset\n",
    "    mask_train = (y_train[model_date].notna())\n",
    "    mask_test = (y_test[model_date].notna())\n",
    "    \n",
    "    # Calculate r2 scores for training and testing data\n",
    "    train_r2 = round(r2_score(y_train.loc[mask_train, model_date],y_train.loc[mask_train, 'value']),3)\n",
    "    test_r2 = round(r2_score(y_test.loc[mask_test, model_date],y_test.loc[mask_test, 'value']),3)\n",
    "    print('Training data r2: %s' % (train_r2))\n",
    "    print('Testing data r2: %s' % (test_r2))\n",
    "\n",
    "    # Calculate MAPE scores for training and testing data\n",
    "    train_mape = round(mape(y_train.loc[mask_train, model_date],y_train.loc[mask_train, 'value']),3)\n",
    "    test_mape = round(mape(y_test.loc[mask_test, model_date],y_test.loc[mask_test, 'value']),3)\n",
    "    print('Training data MAPE: %s' % (train_mape))\n",
    "    print('Testing data MAPE: %s' % (test_mape))\n",
    "\n",
    "    # Add the model predictions to the respective dataframes\n",
    "    df_train = pd.merge(df_train, y_train.drop(columns = 'value'), how = 'left', left_index = True, right_index = True)\n",
    "    df_test = pd.merge(df_test, y_test.drop(columns = 'value'), how = 'left', left_index = True, right_index = True)\n",
    "    \n",
    "    # Increment the data shift by one week (168 hours)\n",
    "    data_shift += 168\n",
    "\n",
    "toc = timeit.default_timer()\n",
    "print('\\nAll RNN fits completed in %0.2f seconds' % (toc-tic))"
   ]
  },
  {
   "cell_type": "code",
   "execution_count": 6,
   "metadata": {},
   "outputs": [],
   "source": [
    "# Write prediction dataframes to CSV\n",
    "df_train.to_csv('../Outputs/RNN_validation_train_preds.csv')\n",
    "df_test.to_csv('../Outputs/RNN_validation_test_preds.csv')"
   ]
  },
  {
   "cell_type": "code",
   "execution_count": 7,
   "metadata": {},
   "outputs": [],
   "source": [
    "# Write model scores to data frame - Meant to include this in loop initially\n",
    "# Create dataframe for scores\n",
    "df_scores = pd.DataFrame(index = df_train.drop(columns = 'value').columns)\n",
    "\n",
    "# Create empty columns for scores\n",
    "df_scores['train_r2'], df_scores['test_r2'], df_scores['train_mape'], df_scores['test_mape'] = [np.nan,np.nan,np.nan,np.nan]\n",
    "\n",
    "# Loop through each forecast\n",
    "for column in df_train.columns[1:]:\n",
    "    # Slice training and testing dataframes to desired forecast\n",
    "    df_train_calc = df_train[['value',column]].dropna()\n",
    "    df_test_calc = df_test[['value',column]].dropna()\n",
    "    \n",
    "    # Calciulate r2 scores for training and testing data\n",
    "    train_r2 = round(r2_score(df_train_calc['value'],df_train_calc[column]),3)\n",
    "    test_r2 = round(r2_score(df_test_calc['value'],df_test_calc[column]),3)\n",
    "\n",
    "    # Calculate MAPE scores for training and testing data\n",
    "    train_mape = round(mape(df_train_calc['value'],df_train_calc[column]),2)\n",
    "    test_mape = round(mape(df_test_calc['value'],df_test_calc[column]),2)\n",
    "    \n",
    "    # Assign scores\n",
    "    df_scores.loc[df_scores.index == column,:] = [train_r2, test_r2, train_mape, test_mape]"
   ]
  },
  {
   "cell_type": "code",
   "execution_count": 8,
   "metadata": {},
   "outputs": [],
   "source": [
    "# Write scores dataframes to CSV\n",
    "df_scores.to_csv('../Outputs/RNN_validation_scores.csv')"
   ]
  },
  {
   "cell_type": "code",
   "execution_count": 9,
   "metadata": {
    "scrolled": false
   },
   "outputs": [
    {
     "data": {
      "image/png": "[encoded data removed]",
      "text/plain": [
       "<Figure size 576x432 with 1 Axes>"
      ]
     },
     "metadata": {
      "needs_background": "light"
     },
     "output_type": "display_data"
    }
   ],
   "source": [
    "plt.figure(figsize = (8,6))\n",
    "plt.plot(df_scores[['train_mape','test_mape']])\n",
    "plt.xticks(df_scores.index[2::8])\n",
    "plt.xlabel('Testing Data Start Date')\n",
    "plt.ylabel('Percent Error')\n",
    "plt.title('RNN Model Mean Absolute Percentage Error by Week')\n",
    "plt.legend(labels = ['Training MAPE','Testing MAPE']);"
   ]
  }
 ],
 "metadata": {
  "kernelspec": {
   "display_name": "Python 3",
   "language": "python",
   "name": "python3"
  },
  "language_info": {
   "codemirror_mode": {
    "name": "ipython",
    "version": 3
   },
   "file_extension": ".py",
   "mimetype": "text/x-python",
   "name": "python",
   "nbconvert_exporter": "python",
   "pygments_lexer": "ipython3",
   "version": "3.7.6"
  }
 },
 "nbformat": 4,
 "nbformat_minor": 4
}
